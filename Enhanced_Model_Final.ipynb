{
  "nbformat": 4,
  "nbformat_minor": 0,
  "metadata": {
    "colab": {
      "name": "Enhanced Model - Final.ipynb",
      "provenance": [],
      "collapsed_sections": [],
      "machine_shape": "hm",
      "mount_file_id": "1juYIWJICASs5llDbdF7HhI8kBNveTvi-",
      "authorship_tag": "ABX9TyNm+gFKmSTAb6xPggJKef8E",
      "include_colab_link": true
    },
    "kernelspec": {
      "name": "python3",
      "display_name": "Python 3"
    },
    "language_info": {
      "name": "python"
    },
    "accelerator": "GPU"
  },
  "cells": [
    {
      "cell_type": "markdown",
      "metadata": {
        "id": "view-in-github",
        "colab_type": "text"
      },
      "source": [
        "<a href=\"https://colab.research.google.com/github/jhodgens17/audio_classification/blob/main/Enhanced_Model_Final.ipynb\" target=\"_parent\"><img src=\"https://colab.research.google.com/assets/colab-badge.svg\" alt=\"Open In Colab\"/></a>"
      ]
    },
    {
      "cell_type": "code",
      "metadata": {
        "id": "kzi2CqpnXjby"
      },
      "source": [
        "#Import packages\n",
        "import os.path\n",
        "import tensorflow as tf\n",
        "import matplotlib.pyplot as plt\n",
        "import numpy as np\n",
        "import keras\n",
        "import pandas as pd\n",
        "from tensorflow.keras.models import Sequential\n",
        "from tensorflow.keras.layers import InputLayer\n",
        "from tensorflow.keras.layers import Dense\n",
        "from tensorflow.keras.layers import Dropout\n",
        "from tensorflow.keras.layers import Flatten\n",
        "from tensorflow.keras.layers import Input\n",
        "from tensorflow.keras.layers.experimental import preprocessing\n",
        "from tensorflow.keras.layers import Conv1D\n",
        "from tensorflow.keras.layers import MaxPooling1D\n",
        "from sklearn.model_selection import train_test_split\n",
        "from sklearn.metrics import accuracy_score\n",
        "from IPython import display"
      ],
      "execution_count": 1,
      "outputs": []
    },
    {
      "cell_type": "markdown",
      "metadata": {
        "id": "mgydsV0aXt0E"
      },
      "source": [
        "The objective of this capstone project is to leverage the TensorFlow Speech Commands Dataset in order to build a speech recognition model to better understand the technology behind speech-based virtual assistants. This notebook contains the code for devloping a neural network model used to make predictions on the Kaggle Speech Recognition Challenge dataset."
      ]
    },
    {
      "cell_type": "markdown",
      "metadata": {
        "id": "nRZ2iIo_YJDj"
      },
      "source": [
        "# **Data Understanding**"
      ]
    },
    {
      "cell_type": "markdown",
      "metadata": {
        "id": "2viRUuSxYVw2"
      },
      "source": [
        "The dataset used in this capstone project was obtained via a Kaggle competition from 2018. At that time, Tensorflow released this speech commands dataset in order to enable developers to program their own speech recognition algorithims. It contains ~65,000 1 second long audio clips of different people speaking 30 different words. The objective of the Kaggle competition was to program a speech recogntion model that identifies a subset of 10 of these words.\n"
      ]
    },
    {
      "cell_type": "code",
      "metadata": {
        "id": "wqNW9Qd_Xsho"
      },
      "source": [
        "#This list includes the 10 target words of interest\n",
        "target_words = ['down', 'go', 'left', 'no', 'off',\n",
        "           'on', 'right', 'stop', 'up', 'yes']"
      ],
      "execution_count": 2,
      "outputs": []
    },
    {
      "cell_type": "code",
      "metadata": {
        "id": "H3hNW4QYqnHO"
      },
      "source": [
        "#This list includes the other words included in the dataset\n",
        "unknown = ['bed', 'bird', 'cat', 'dog', 'eight', \n",
        "           'five', 'four', 'happy', 'house', 'marvin',\n",
        "           'nine', 'one', 'seven', 'sheila', 'six', 'three',\n",
        "           'tree', 'two', 'wow', 'zero']"
      ],
      "execution_count": 3,
      "outputs": []
    },
    {
      "cell_type": "code",
      "metadata": {
        "id": "UOp2TLlzrgz_"
      },
      "source": [
        "all_words = target_words + unknown"
      ],
      "execution_count": 4,
      "outputs": []
    },
    {
      "cell_type": "code",
      "metadata": {
        "id": "51ZB22fJYE7x"
      },
      "source": [
        "#Get a dictionary of the file names\n",
        "files = {}\n",
        "for word in all_words:\n",
        "  path = '/content/drive/MyDrive/train/audio/'+word\n",
        "  file_list = os.listdir(path)\n",
        "  files[word] = file_list"
      ],
      "execution_count": 5,
      "outputs": []
    },
    {
      "cell_type": "code",
      "metadata": {
        "colab": {
          "base_uri": "https://localhost:8080/"
        },
        "id": "O-KWE-hCahmO",
        "outputId": "8a772e0a-b555-481b-db50-1e94fcb83cf9"
      },
      "source": [
        "#Checking the size of the dictionary\n",
        "len(files)"
      ],
      "execution_count": 6,
      "outputs": [
        {
          "output_type": "execute_result",
          "data": {
            "text/plain": [
              "30"
            ]
          },
          "metadata": {
            "tags": []
          },
          "execution_count": 6
        }
      ]
    },
    {
      "cell_type": "code",
      "metadata": {
        "colab": {
          "base_uri": "https://localhost:8080/"
        },
        "id": "L1nEZswAa0uO",
        "outputId": "ba422450-03dd-4bd2-bb69-403982d27b7f"
      },
      "source": [
        "#Checking the number of files for each word\n",
        "for word in files:\n",
        "  print(len(files[word]))"
      ],
      "execution_count": 7,
      "outputs": [
        {
          "output_type": "stream",
          "text": [
            "2359\n",
            "2372\n",
            "2353\n",
            "2375\n",
            "2357\n",
            "2367\n",
            "2367\n",
            "2380\n",
            "2375\n",
            "2377\n",
            "1713\n",
            "1731\n",
            "1733\n",
            "1746\n",
            "2352\n",
            "2357\n",
            "2372\n",
            "1742\n",
            "1750\n",
            "1746\n",
            "2364\n",
            "2370\n",
            "2377\n",
            "1734\n",
            "2369\n",
            "2356\n",
            "1733\n",
            "2373\n",
            "1745\n",
            "2376\n"
          ],
          "name": "stdout"
        }
      ]
    },
    {
      "cell_type": "code",
      "metadata": {
        "colab": {
          "base_uri": "https://localhost:8080/"
        },
        "id": "Pt3foM8Xa0w-",
        "outputId": "9c0afc2e-e60d-4466-9b80-9f035004fd62"
      },
      "source": [
        "#Checking the total number of files\n",
        "total = 0\n",
        "for word in files:\n",
        "  total = total + len(files[word])\n",
        "total"
      ],
      "execution_count": 8,
      "outputs": [
        {
          "output_type": "execute_result",
          "data": {
            "text/plain": [
              "64721"
            ]
          },
          "metadata": {
            "tags": []
          },
          "execution_count": 8
        }
      ]
    },
    {
      "cell_type": "code",
      "metadata": {
        "id": "WUOU7t1-a00-"
      },
      "source": [
        "#Getting the file path for each audio clip\n",
        "paths = {}\n",
        "for word in files:\n",
        "  path_list = []\n",
        "  for file in files[word]:\n",
        "    path = '/content/drive/MyDrive/train/audio/' + word + '/' + file\n",
        "    path_list.append(path)\n",
        "  paths[word] = path_list"
      ],
      "execution_count": 9,
      "outputs": []
    },
    {
      "cell_type": "code",
      "metadata": {
        "colab": {
          "base_uri": "https://localhost:8080/"
        },
        "id": "NZDnMAzqa04V",
        "outputId": "22c5289b-23da-4cc5-95b3-27816caf3ee8"
      },
      "source": [
        "#Checking size of the new dictionary\n",
        "len(paths)"
      ],
      "execution_count": 10,
      "outputs": [
        {
          "output_type": "execute_result",
          "data": {
            "text/plain": [
              "30"
            ]
          },
          "metadata": {
            "tags": []
          },
          "execution_count": 10
        }
      ]
    },
    {
      "cell_type": "code",
      "metadata": {
        "colab": {
          "base_uri": "https://localhost:8080/"
        },
        "id": "_P4bdm-obtmG",
        "outputId": "9d4d0725-18c5-4ded-ac45-ba522770b7e1"
      },
      "source": [
        "#Checking the number of paths\n",
        "total_paths = 0\n",
        "for word in paths:\n",
        "  total_paths = total_paths + len(paths[word])\n",
        "total_paths"
      ],
      "execution_count": 11,
      "outputs": [
        {
          "output_type": "execute_result",
          "data": {
            "text/plain": [
              "64721"
            ]
          },
          "metadata": {
            "tags": []
          },
          "execution_count": 11
        }
      ]
    },
    {
      "cell_type": "code",
      "metadata": {
        "id": "ZQu21D9Rb1bP"
      },
      "source": [
        "#Getting lists of paths and targets (spoken word)\n",
        "word_list = []\n",
        "path_list = []\n",
        "for target in files:\n",
        "  if target in target_words:\n",
        "    for file in files[target]:\n",
        "      path = '/content/drive/MyDrive/train/audio/' + target + '/' + file\n",
        "      path_list.append(path)\n",
        "      word_list.append(target)\n",
        "  else:\n",
        "    for file in files[target]:\n",
        "      path = '/content/drive/MyDrive/train/audio/' + target + '/' + file\n",
        "      path_list.append(path)\n",
        "      word_list.append('unknown')"
      ],
      "execution_count": 12,
      "outputs": []
    },
    {
      "cell_type": "code",
      "metadata": {
        "colab": {
          "base_uri": "https://localhost:8080/"
        },
        "id": "a22_XAtqcPgr",
        "outputId": "5cca37bb-9dea-4562-c589-a27fd524ce1a"
      },
      "source": [
        "#Checking length of word list\n",
        "len(word_list)"
      ],
      "execution_count": 13,
      "outputs": [
        {
          "output_type": "execute_result",
          "data": {
            "text/plain": [
              "64721"
            ]
          },
          "metadata": {
            "tags": []
          },
          "execution_count": 13
        }
      ]
    },
    {
      "cell_type": "code",
      "metadata": {
        "colab": {
          "base_uri": "https://localhost:8080/"
        },
        "id": "GW0O8B-pcXaT",
        "outputId": "a8d25675-3d2e-43bf-cf9d-22e81bbcc08d"
      },
      "source": [
        "#Checking length of path list\n",
        "len(path_list)"
      ],
      "execution_count": 14,
      "outputs": [
        {
          "output_type": "execute_result",
          "data": {
            "text/plain": [
              "64721"
            ]
          },
          "metadata": {
            "tags": []
          },
          "execution_count": 14
        }
      ]
    },
    {
      "cell_type": "code",
      "metadata": {
        "id": "klmQFW7lS4CX"
      },
      "source": [
        "#Adding files for silence (audio clips that do not include any words)\n",
        "silent_names = ['bike', 'dish', 'dude', 'pink', 'tap', 'white']\n",
        "silent_paths = []\n",
        "for word in silent_names:\n",
        "  path = '/content/drive/MyDrive/silence/'+word\n",
        "  file_list = os.listdir(path)\n",
        "  for file in file_list:\n",
        "    full_path = '/content/drive/MyDrive/silence/'+word+'/'+file\n",
        "    silent_paths.append(full_path)"
      ],
      "execution_count": 15,
      "outputs": []
    },
    {
      "cell_type": "code",
      "metadata": {
        "colab": {
          "base_uri": "https://localhost:8080/"
        },
        "id": "YBYfrZ5ANfTP",
        "outputId": "360cf966-b287-418e-f88c-d42d44482f74"
      },
      "source": [
        "#Checking length of this list\n",
        "len(silent_paths)"
      ],
      "execution_count": 16,
      "outputs": [
        {
          "output_type": "execute_result",
          "data": {
            "text/plain": [
              "396"
            ]
          },
          "metadata": {
            "tags": []
          },
          "execution_count": 16
        }
      ]
    },
    {
      "cell_type": "code",
      "metadata": {
        "id": "0SkD38s9UKdR"
      },
      "source": [
        "#Creating a list for the targets for these silent clips\n",
        "silent_targets = ['silence']*396"
      ],
      "execution_count": 17,
      "outputs": []
    },
    {
      "cell_type": "code",
      "metadata": {
        "id": "1zDgHUHmUKgO"
      },
      "source": [
        "#Appending the lists\n",
        "all_paths = path_list + silent_paths"
      ],
      "execution_count": 18,
      "outputs": []
    },
    {
      "cell_type": "code",
      "metadata": {
        "id": "tejnHu4aUKkC"
      },
      "source": [
        "all_targets = word_list + silent_targets"
      ],
      "execution_count": 19,
      "outputs": []
    },
    {
      "cell_type": "markdown",
      "metadata": {
        "id": "chgLspvNtlrW"
      },
      "source": [
        "# Data Preparation\n",
        "\n",
        "\n",
        "\n",
        "TensorFlow contains functions that can process these audio files into a format that can be used to train a speech detection model."
      ]
    },
    {
      "cell_type": "code",
      "metadata": {
        "id": "bFSZ1myasE3y"
      },
      "source": [
        "#Creating a dataset for all of the files\n",
        "files_ds = tf.data.Dataset.from_tensor_slices(all_paths)"
      ],
      "execution_count": 20,
      "outputs": []
    },
    {
      "cell_type": "code",
      "metadata": {
        "id": "5-hxbMYruIev"
      },
      "source": [
        "#Defining function to get waveform for each audio clip\n",
        "def get_waveform(path):\n",
        "  audio_binary = tf.io.read_file(path)\n",
        "  audio, sample_rate = tf.audio.decode_wav(audio_binary)\n",
        "  waveform = tf.squeeze(audio, axis=-1)\n",
        "  return waveform"
      ],
      "execution_count": 21,
      "outputs": []
    },
    {
      "cell_type": "code",
      "metadata": {
        "colab": {
          "base_uri": "https://localhost:8080/"
        },
        "id": "lDwqwocjuMLv",
        "outputId": "73a3ff5e-9749-416a-d0f7-f6abe874c148"
      },
      "source": [
        "#Demonstrting the waveform funciton on one example\n",
        "waveform = get_waveform(path_list[1717])\n",
        "waveform"
      ],
      "execution_count": 22,
      "outputs": [
        {
          "output_type": "execute_result",
          "data": {
            "text/plain": [
              "<tf.Tensor: shape=(16000,), dtype=float32, numpy=\n",
              "array([0.00042725, 0.00033569, 0.00018311, ..., 0.00054932, 0.00079346,\n",
              "       0.0010376 ], dtype=float32)>"
            ]
          },
          "metadata": {
            "tags": []
          },
          "execution_count": 22
        }
      ]
    },
    {
      "cell_type": "code",
      "metadata": {
        "colab": {
          "base_uri": "https://localhost:8080/",
          "height": 35
        },
        "id": "Fr2pMmccmt1W",
        "outputId": "e71cc331-901a-4cd3-f184-bdfd7f01d0c9"
      },
      "source": [
        "path_list[1717]"
      ],
      "execution_count": 23,
      "outputs": [
        {
          "output_type": "execute_result",
          "data": {
            "application/vnd.google.colaboratory.intrinsic+json": {
              "type": "string"
            },
            "text/plain": [
              "'/content/drive/MyDrive/train/audio/down/afbec28d_nohash_0.wav'"
            ]
          },
          "metadata": {
            "tags": []
          },
          "execution_count": 23
        }
      ]
    },
    {
      "cell_type": "code",
      "metadata": {
        "colab": {
          "base_uri": "https://localhost:8080/",
          "height": 35
        },
        "id": "buLg6CJPna0i",
        "outputId": "df4e7a04-7506-4d4c-fb53-b18c000296fe"
      },
      "source": [
        "word_list[1717]"
      ],
      "execution_count": 24,
      "outputs": [
        {
          "output_type": "execute_result",
          "data": {
            "application/vnd.google.colaboratory.intrinsic+json": {
              "type": "string"
            },
            "text/plain": [
              "'down'"
            ]
          },
          "metadata": {
            "tags": []
          },
          "execution_count": 24
        }
      ]
    },
    {
      "cell_type": "code",
      "metadata": {
        "colab": {
          "base_uri": "https://localhost:8080/",
          "height": 282
        },
        "id": "mgA8yaQQufF4",
        "outputId": "56736d2b-f590-4bbc-f62e-442f7d21385d"
      },
      "source": [
        "#The waveform can be plotted visually\n",
        "plt.plot(waveform)"
      ],
      "execution_count": 25,
      "outputs": [
        {
          "output_type": "execute_result",
          "data": {
            "text/plain": [
              "[<matplotlib.lines.Line2D at 0x7fe5e035ef90>]"
            ]
          },
          "metadata": {
            "tags": []
          },
          "execution_count": 25
        },
        {
          "output_type": "display_data",
          "data": {
            "image/png": "[encoded data removed]",
            "text/plain": [
              "<Figure size 432x288 with 1 Axes>"
            ]
          },
          "metadata": {
            "tags": [],
            "needs_background": "light"
          }
        }
      ]
    },
    {
      "cell_type": "markdown",
      "metadata": {
        "id": "boDm0dbovTJt"
      },
      "source": [
        "The waveform represents the amplitude of a sound wave (i.e. the strength of the audio) over a period of time. Each of the audio clips contained in this dataset have a sampling rate of 16,000 Hz, which means that the audio file contains 16,000 data points per second. Therefore, when we process the clips into their waveforms, we are representing them as tensors of 16,000 numbers (most clips are 1-sec long; however, there were a few that were shorter). The next step is to process the waveform to a spectrogram."
      ]
    },
    {
      "cell_type": "code",
      "metadata": {
        "id": "1T-i8R2hvQV4"
      },
      "source": [
        "#Defining a function that makes all audio clips same length and gets spectrogram\n",
        "def get_spectrogram(waveform):\n",
        "  zero_padding = tf.zeros([16000] - tf.shape(waveform), dtype=tf.float32)\n",
        "  equal_length = tf.concat([waveform, zero_padding], 0)\n",
        "  spectrogram = tf.signal.stft(equal_length, frame_length=255, frame_step=128)\n",
        "  spectrogram = tf.abs(spectrogram)\n",
        "  return spectrogram"
      ],
      "execution_count": 26,
      "outputs": []
    },
    {
      "cell_type": "code",
      "metadata": {
        "colab": {
          "base_uri": "https://localhost:8080/"
        },
        "id": "le1zdROCWoLw",
        "outputId": "0aec1133-dd6d-45e8-b870-8ad9dd23dc1c"
      },
      "source": [
        "#Demonstrting the spectrogram funciton on one example\n",
        "spectrogram = get_spectrogram(waveform)\n",
        "spectrogram_abs = tf.abs(spectrogram)\n",
        "spectrogram"
      ],
      "execution_count": 27,
      "outputs": [
        {
          "output_type": "execute_result",
          "data": {
            "text/plain": [
              "<tf.Tensor: shape=(124, 129), dtype=float32, numpy=\n",
              "array([[2.6857503e-02, 1.5097800e-02, 2.3011047e-02, ..., 9.9685727e-05,\n",
              "        5.9804792e-05, 4.5689754e-05],\n",
              "       [9.5076859e-03, 2.0525515e-02, 4.1951492e-02, ..., 1.1229752e-04,\n",
              "        5.7147874e-05, 3.0147377e-05],\n",
              "       [7.5083254e-03, 1.1578057e-02, 2.1956393e-02, ..., 6.5327156e-05,\n",
              "        4.6946800e-05, 2.1033920e-05],\n",
              "       ...,\n",
              "       [2.0974565e-02, 8.2993098e-03, 4.2936292e-02, ..., 1.1753873e-04,\n",
              "        9.6370335e-05, 3.3983029e-05],\n",
              "       [6.4048395e-03, 2.3303296e-02, 2.9184328e-02, ..., 5.6688838e-05,\n",
              "        7.8216653e-05, 6.7941612e-05],\n",
              "       [5.0217561e-02, 4.5906417e-02, 3.7272256e-02, ..., 1.4609029e-04,\n",
              "        9.7764372e-05, 1.7745979e-04]], dtype=float32)>"
            ]
          },
          "metadata": {
            "tags": []
          },
          "execution_count": 27
        }
      ]
    },
    {
      "cell_type": "code",
      "metadata": {
        "id": "wULziOY8Wxn8"
      },
      "source": [
        "#Defining a function to plot the spectrogram\n",
        "def plot_spectrogram(spectrogram, ax):\n",
        "  # Convert to frequencies to log scale and transpose so that the time is\n",
        "  # represented in the x-axis (columns).\n",
        "  log_spec = np.log(spectrogram.T)\n",
        "  height = log_spec.shape[0]\n",
        "  width = log_spec.shape[1]\n",
        "  X = np.linspace(0, np.size(spectrogram), num=width, dtype=int)\n",
        "  Y = range(height)\n",
        "  ax.pcolormesh(X, Y, log_spec)"
      ],
      "execution_count": 28,
      "outputs": []
    },
    {
      "cell_type": "code",
      "metadata": {
        "colab": {
          "base_uri": "https://localhost:8080/",
          "height": 474
        },
        "id": "Ov-lLaYYXwv1",
        "outputId": "6a0821e0-3e51-42e8-c7ae-0bdacc23807c"
      },
      "source": [
        "#Plotting the waveform and spectrogram together\n",
        "fig, axes = plt.subplots(2, figsize=(12, 8))\n",
        "timescale = np.arange(waveform.shape[0])\n",
        "axes[0].plot(timescale, waveform.numpy())\n",
        "axes[0].set_title('Waveform')\n",
        "axes[0].set_xlim([0, 16000])\n",
        "plot_spectrogram(spectrogram_abs.numpy(), axes[1])\n",
        "axes[1].set_title('Spectrogram')\n",
        "plt.show()"
      ],
      "execution_count": 29,
      "outputs": [
        {
          "output_type": "display_data",
          "data": {
            "image/png": "[encoded data removed]",
            "text/plain": [
              "<Figure size 864x576 with 2 Axes>"
            ]
          },
          "metadata": {
            "tags": [],
            "needs_background": "light"
          }
        }
      ]
    },
    {
      "cell_type": "markdown",
      "metadata": {
        "id": "Rak2GdJ_eblb"
      },
      "source": [
        "A spectrogram is a visual depiction of the changing frequency of a sound. In the above example, the brighter colors indicate a greater frequency (i.e. a higher pitched sound). The spectrogram for each audio clip will be used to train the speech detection model in the following sections. Finally, here is the audio clip of the above example."
      ]
    },
    {
      "cell_type": "code",
      "metadata": {
        "colab": {
          "base_uri": "https://localhost:8080/",
          "height": 75
        },
        "id": "ui5xMeUqX-fD",
        "outputId": "281d0463-3e49-4c6e-a337-6eae2fa0d58d"
      },
      "source": [
        "display.display(display.Audio(waveform, rate=16000))"
      ],
      "execution_count": 30,
      "outputs": [
        {
          "output_type": "display_data",
          "data": {
            "text/html": [
              "\n",
              "                <audio controls=\"controls\" >\n",
              "                    <source src=\"data:audio/wav;base64,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\" type=\"audio/wav\" />\n",
              "                    Your browser does not support the audio element.\n",
              "                </audio>\n",
              "              "
            ],
            "text/plain": [
              "<IPython.lib.display.Audio object>"
            ]
          },
          "metadata": {
            "tags": []
          }
        }
      ]
    },
    {
      "cell_type": "code",
      "metadata": {
        "colab": {
          "base_uri": "https://localhost:8080/",
          "height": 35
        },
        "id": "QxD-2t80gn2f",
        "outputId": "b8dc43c4-ebb9-404a-d466-2dca6731016f"
      },
      "source": [
        "#Checking the label for this clip\n",
        "word_list[1717]"
      ],
      "execution_count": 31,
      "outputs": [
        {
          "output_type": "execute_result",
          "data": {
            "application/vnd.google.colaboratory.intrinsic+json": {
              "type": "string"
            },
            "text/plain": [
              "'down'"
            ]
          },
          "metadata": {
            "tags": []
          },
          "execution_count": 31
        }
      ]
    },
    {
      "cell_type": "code",
      "metadata": {
        "id": "Pst1Pk8vg0fF"
      },
      "source": [
        "#Getting the waveform for each file\n",
        "waveform_ds = files_ds.map(get_waveform)"
      ],
      "execution_count": 32,
      "outputs": []
    },
    {
      "cell_type": "code",
      "metadata": {
        "id": "zjQJf96QhWRN"
      },
      "source": [
        "#Getting the spectrogram for each file\n",
        "spectrogram_ds = waveform_ds.map(get_spectrogram)"
      ],
      "execution_count": 33,
      "outputs": []
    },
    {
      "cell_type": "markdown",
      "metadata": {
        "id": "1-ZPa8FUhb7P"
      },
      "source": [
        "# Modeling/Evaluation"
      ]
    },
    {
      "cell_type": "code",
      "metadata": {
        "id": "esiUy5TnhYRL"
      },
      "source": [
        "#Getting the spectrograms as an array in order to train/test split\n",
        "spec = np.stack(list(spectrogram_ds))"
      ],
      "execution_count": 34,
      "outputs": []
    },
    {
      "cell_type": "code",
      "metadata": {
        "id": "DAc92KosewZ2"
      },
      "source": [
        "X = spec"
      ],
      "execution_count": 35,
      "outputs": []
    },
    {
      "cell_type": "code",
      "metadata": {
        "id": "nkAP_VCohkQD",
        "colab": {
          "base_uri": "https://localhost:8080/"
        },
        "outputId": "b9856d10-ada8-46cc-b97b-40caec3ac361"
      },
      "source": [
        "X.shape"
      ],
      "execution_count": 36,
      "outputs": [
        {
          "output_type": "execute_result",
          "data": {
            "text/plain": [
              "(65117, 124, 129)"
            ]
          },
          "metadata": {
            "tags": []
          },
          "execution_count": 36
        }
      ]
    },
    {
      "cell_type": "code",
      "metadata": {
        "id": "0n53Qo0soqmX"
      },
      "source": [
        "#Getting binary targets for all 12 words\n",
        "y = pd.get_dummies(all_targets)"
      ],
      "execution_count": 37,
      "outputs": []
    },
    {
      "cell_type": "code",
      "metadata": {
        "id": "4ePKi6OypOki"
      },
      "source": [
        "#Train/Test split\n",
        "X_train, X_test, y_train, y_test = train_test_split(X, y)"
      ],
      "execution_count": 38,
      "outputs": []
    },
    {
      "cell_type": "code",
      "metadata": {
        "colab": {
          "base_uri": "https://localhost:8080/"
        },
        "id": "SvQzW7mQJ726",
        "outputId": "8edbb1fd-9218-40be-a57f-33141a33a3af"
      },
      "source": [
        "#Getting the shape of the spectrogram\n",
        "for spectrogram in spectrogram_ds.take(1):\n",
        "  input_shape = spectrogram.shape\n",
        "print('Input shape:', input_shape)"
      ],
      "execution_count": 39,
      "outputs": [
        {
          "output_type": "stream",
          "text": [
            "Input shape: (124, 129)\n"
          ],
          "name": "stdout"
        }
      ]
    },
    {
      "cell_type": "code",
      "metadata": {
        "id": "g-ks0PNxpQWx"
      },
      "source": [
        "#Instantiate model\n",
        "model = Sequential()"
      ],
      "execution_count": 40,
      "outputs": []
    },
    {
      "cell_type": "code",
      "metadata": {
        "id": "aj7D-qr3ptSm"
      },
      "source": [
        "#Build model\n",
        "model.add(InputLayer(input_shape=input_shape))\n",
        "model.add(Conv1D(32,3, activation='relu'))\n",
        "model.add(Flatten())\n",
        "model.add(Dense(128, activation='relu'))\n",
        "model.add(Dense(12))"
      ],
      "execution_count": 41,
      "outputs": []
    },
    {
      "cell_type": "code",
      "metadata": {
        "id": "WBHQUxTlp434"
      },
      "source": [
        "#Compile model\n",
        "model.compile(optimizer=tf.keras.optimizers.Adam(),\n",
        "              loss='binary_crossentropy',\n",
        "              metrics=['accuracy'])"
      ],
      "execution_count": 42,
      "outputs": []
    },
    {
      "cell_type": "code",
      "metadata": {
        "colab": {
          "base_uri": "https://localhost:8080/"
        },
        "id": "bq5FBT9lp8ej",
        "outputId": "5b7f37db-b227-4757-acfc-12885642c510"
      },
      "source": [
        "#Fit model\n",
        "model.fit(X_train, y_train, epochs=10, batch_size=64)"
      ],
      "execution_count": 43,
      "outputs": [
        {
          "output_type": "stream",
          "text": [
            "Epoch 1/10\n",
            "764/764 [==============================] - 18s 4ms/step - loss: 0.6788 - accuracy: 0.6096\n",
            "Epoch 2/10\n",
            "764/764 [==============================] - 3s 4ms/step - loss: 0.3453 - accuracy: 0.6283\n",
            "Epoch 3/10\n",
            "764/764 [==============================] - 3s 4ms/step - loss: 0.3156 - accuracy: 0.6305\n",
            "Epoch 4/10\n",
            "764/764 [==============================] - 3s 4ms/step - loss: 0.3133 - accuracy: 0.6314\n",
            "Epoch 5/10\n",
            "764/764 [==============================] - 3s 4ms/step - loss: 0.2967 - accuracy: 0.6323\n",
            "Epoch 6/10\n",
            "764/764 [==============================] - 3s 4ms/step - loss: 0.2910 - accuracy: 0.6342\n",
            "Epoch 7/10\n",
            "764/764 [==============================] - 3s 4ms/step - loss: 0.2959 - accuracy: 0.6339\n",
            "Epoch 8/10\n",
            "764/764 [==============================] - 3s 4ms/step - loss: 0.2993 - accuracy: 0.6342\n",
            "Epoch 9/10\n",
            "764/764 [==============================] - 3s 4ms/step - loss: 0.2981 - accuracy: 0.6342\n",
            "Epoch 10/10\n",
            "764/764 [==============================] - 3s 4ms/step - loss: 0.2986 - accuracy: 0.6364\n"
          ],
          "name": "stdout"
        },
        {
          "output_type": "execute_result",
          "data": {
            "text/plain": [
              "<tensorflow.python.keras.callbacks.History at 0x7fe58bec8c50>"
            ]
          },
          "metadata": {
            "tags": []
          },
          "execution_count": 43
        }
      ]
    },
    {
      "cell_type": "code",
      "metadata": {
        "id": "c3MZDDuRqFId"
      },
      "source": [
        "#Getting predictions for test set\n",
        "y_pred = np.argmax(model.predict(X_test), axis = 1)"
      ],
      "execution_count": 44,
      "outputs": []
    },
    {
      "cell_type": "code",
      "metadata": {
        "id": "o8yH4wl1qctA"
      },
      "source": [
        "#Getting the actual values of test set in order to compare to predictions\n",
        "y_test_actual = y_test.idxmax(axis = 1)"
      ],
      "execution_count": 45,
      "outputs": []
    },
    {
      "cell_type": "code",
      "metadata": {
        "id": "68KbbYjCuLOI"
      },
      "source": [
        "#Creating a dictionary to update numeric values from predictions\n",
        "tar_dict = {0:'down', 1:'go', 2:'left', 3:'no', 4:'off',\n",
        "            5:'on', 6:'right', 7: 'silence', 8:'stop', 9: 'unknown', 10:'up', 11: 'yes'}"
      ],
      "execution_count": 46,
      "outputs": []
    },
    {
      "cell_type": "code",
      "metadata": {
        "id": "PHM0gJ4Uu75c"
      },
      "source": [
        "#Updating predicted values to words\n",
        "y_pred_list = []\n",
        "for value in y_pred:\n",
        "  y_pred_list.append(tar_dict[value])\n",
        "y_pred_words = np.array(y_pred_list)"
      ],
      "execution_count": 47,
      "outputs": []
    },
    {
      "cell_type": "code",
      "metadata": {
        "colab": {
          "base_uri": "https://localhost:8080/"
        },
        "id": "JidtQvJjvatr",
        "outputId": "cb80ddb1-5de9-438c-d304-fa53dac2c7c2"
      },
      "source": [
        "#Getting accuracy score for test set\n",
        "accuracy_score(y_test_actual, y_pred_words)"
      ],
      "execution_count": 48,
      "outputs": [
        {
          "output_type": "execute_result",
          "data": {
            "text/plain": [
              "0.6197174447174447"
            ]
          },
          "metadata": {
            "tags": []
          },
          "execution_count": 48
        }
      ]
    },
    {
      "cell_type": "code",
      "metadata": {
        "id": "FJOUT9tvKhCc"
      },
      "source": [
        "#Instantiate second model\n",
        "model2 = Sequential()"
      ],
      "execution_count": 49,
      "outputs": []
    },
    {
      "cell_type": "code",
      "metadata": {
        "id": "28ZkWNviSygW"
      },
      "source": [
        "#Build second model\n",
        "model2.add(InputLayer(input_shape=input_shape))\n",
        "model2.add(Conv1D(32,3, activation='relu'))\n",
        "model2.add(Conv1D(64,3, activation='relu'))\n",
        "model2.add(Flatten())\n",
        "model2.add(Dense(128, activation='relu'))\n",
        "model2.add(Dense(64, activation='relu'))\n",
        "model2.add(Dense(32, activation='relu'))\n",
        "model2.add(Dense(12, activation='softmax'))"
      ],
      "execution_count": 50,
      "outputs": []
    },
    {
      "cell_type": "code",
      "metadata": {
        "id": "kPRBZ7qUTWe7"
      },
      "source": [
        "#Compile second model\n",
        "model2.compile(optimizer='adam',\n",
        "              loss='categorical_crossentropy',\n",
        "              metrics=['accuracy'])"
      ],
      "execution_count": 51,
      "outputs": []
    },
    {
      "cell_type": "code",
      "metadata": {
        "colab": {
          "base_uri": "https://localhost:8080/"
        },
        "id": "JREVY9BcTi9K",
        "outputId": "59dadb91-5ed3-4d9d-cc54-f97ef01ed298"
      },
      "source": [
        "#Fit second model\n",
        "model2.fit(X_train, y_train, epochs=25, batch_size=64)"
      ],
      "execution_count": 52,
      "outputs": [
        {
          "output_type": "stream",
          "text": [
            "Epoch 1/25\n",
            "764/764 [==============================] - 4s 4ms/step - loss: 1.0526 - accuracy: 0.6985\n",
            "Epoch 2/25\n",
            "764/764 [==============================] - 3s 4ms/step - loss: 0.5453 - accuracy: 0.8328\n",
            "Epoch 3/25\n",
            "764/764 [==============================] - 3s 4ms/step - loss: 0.3860 - accuracy: 0.8796\n",
            "Epoch 4/25\n",
            "764/764 [==============================] - 3s 4ms/step - loss: 0.2907 - accuracy: 0.9078\n",
            "Epoch 5/25\n",
            "764/764 [==============================] - 3s 4ms/step - loss: 0.2430 - accuracy: 0.9233\n",
            "Epoch 6/25\n",
            "764/764 [==============================] - 3s 4ms/step - loss: 0.1971 - accuracy: 0.9370\n",
            "Epoch 7/25\n",
            "764/764 [==============================] - 3s 5ms/step - loss: 0.1754 - accuracy: 0.9460\n",
            "Epoch 8/25\n",
            "764/764 [==============================] - 3s 5ms/step - loss: 0.1584 - accuracy: 0.9501\n",
            "Epoch 9/25\n",
            "764/764 [==============================] - 3s 5ms/step - loss: 0.1213 - accuracy: 0.9621\n",
            "Epoch 10/25\n",
            "764/764 [==============================] - 3s 5ms/step - loss: 0.1111 - accuracy: 0.9661\n",
            "Epoch 11/25\n",
            "764/764 [==============================] - 3s 5ms/step - loss: 0.1149 - accuracy: 0.9643\n",
            "Epoch 12/25\n",
            "764/764 [==============================] - 3s 4ms/step - loss: 0.0953 - accuracy: 0.9717\n",
            "Epoch 13/25\n",
            "764/764 [==============================] - 3s 4ms/step - loss: 0.0924 - accuracy: 0.9719\n",
            "Epoch 14/25\n",
            "764/764 [==============================] - 3s 4ms/step - loss: 0.0937 - accuracy: 0.9720\n",
            "Epoch 15/25\n",
            "764/764 [==============================] - 3s 4ms/step - loss: 0.0794 - accuracy: 0.9770\n",
            "Epoch 16/25\n",
            "764/764 [==============================] - 3s 4ms/step - loss: 0.0663 - accuracy: 0.9802\n",
            "Epoch 17/25\n",
            "764/764 [==============================] - 3s 4ms/step - loss: 0.0811 - accuracy: 0.9771\n",
            "Epoch 18/25\n",
            "764/764 [==============================] - 3s 4ms/step - loss: 0.0631 - accuracy: 0.9814\n",
            "Epoch 19/25\n",
            "764/764 [==============================] - 3s 4ms/step - loss: 0.0747 - accuracy: 0.9793\n",
            "Epoch 20/25\n",
            "764/764 [==============================] - 3s 4ms/step - loss: 0.0624 - accuracy: 0.9821\n",
            "Epoch 21/25\n",
            "764/764 [==============================] - 3s 5ms/step - loss: 0.0516 - accuracy: 0.9851\n",
            "Epoch 22/25\n",
            "764/764 [==============================] - 3s 4ms/step - loss: 0.0749 - accuracy: 0.9799\n",
            "Epoch 23/25\n",
            "764/764 [==============================] - 3s 4ms/step - loss: 0.0543 - accuracy: 0.9840\n",
            "Epoch 24/25\n",
            "764/764 [==============================] - 3s 4ms/step - loss: 0.0411 - accuracy: 0.9884\n",
            "Epoch 25/25\n",
            "764/764 [==============================] - 3s 4ms/step - loss: 0.0579 - accuracy: 0.9839\n"
          ],
          "name": "stdout"
        },
        {
          "output_type": "execute_result",
          "data": {
            "text/plain": [
              "<tensorflow.python.keras.callbacks.History at 0x7fe58cc4a850>"
            ]
          },
          "metadata": {
            "tags": []
          },
          "execution_count": 52
        }
      ]
    },
    {
      "cell_type": "code",
      "metadata": {
        "id": "iCStpKi0Tl3y"
      },
      "source": [
        "#Getting predictions for test set\n",
        "y_pred2 = np.argmax(model2.predict(X_test), axis = 1)"
      ],
      "execution_count": 53,
      "outputs": []
    },
    {
      "cell_type": "code",
      "metadata": {
        "id": "651LrXpiVAmF"
      },
      "source": [
        "#Updating predicted values to words\n",
        "y_pred2_list = []\n",
        "for value in y_pred2:\n",
        "  y_pred2_list.append(tar_dict[value])\n",
        "y_pred2_words = np.array(y_pred2_list)"
      ],
      "execution_count": 54,
      "outputs": []
    },
    {
      "cell_type": "code",
      "metadata": {
        "colab": {
          "base_uri": "https://localhost:8080/"
        },
        "id": "53GfAXHQVTrU",
        "outputId": "297a3ded-0e57-41b0-d29a-adf04cf7ded6"
      },
      "source": [
        "#Getting accuracy score for test set\n",
        "accuracy_score(y_test_actual, y_pred2_words)"
      ],
      "execution_count": 55,
      "outputs": [
        {
          "output_type": "execute_result",
          "data": {
            "text/plain": [
              "0.896990171990172"
            ]
          },
          "metadata": {
            "tags": []
          },
          "execution_count": 55
        }
      ]
    },
    {
      "cell_type": "markdown",
      "metadata": {
        "id": "825SE2XCQRds"
      },
      "source": [
        "The second model showed significant improvement over the first. However, the discrepancy between the train and test accuracies indicates overfitting. Furthermore, the model did not perform well on the Kaggle dataset."
      ]
    },
    {
      "cell_type": "code",
      "metadata": {
        "id": "Ydle1ulLVvlM"
      },
      "source": [
        "#Instantiate third model\n",
        "model3 = Sequential()"
      ],
      "execution_count": 56,
      "outputs": []
    },
    {
      "cell_type": "code",
      "metadata": {
        "id": "dQKpz6VCiKW9"
      },
      "source": [
        "#Build third model\n",
        "model3.add(InputLayer(input_shape=input_shape))\n",
        "model3.add(Conv1D(32,3, activation='relu'))\n",
        "model3.add(MaxPooling1D())\n",
        "model3.add(Dropout(0.3))\n",
        "model3.add(Conv1D(64,3, activation='relu'))\n",
        "model3.add(Flatten())\n",
        "model3.add(Dense(128, activation='relu'))\n",
        "model3.add(Dropout(0.3))\n",
        "model3.add(Dense(64, activation='relu'))\n",
        "model3.add(Dropout(0.3))\n",
        "model3.add(Dense(12, activation='softmax'))"
      ],
      "execution_count": 57,
      "outputs": []
    },
    {
      "cell_type": "code",
      "metadata": {
        "id": "XDIZp3VkmPty"
      },
      "source": [
        "#Compile third model\n",
        "model3.compile(optimizer='adam',\n",
        "              loss='categorical_crossentropy',\n",
        "              metrics=['accuracy'])"
      ],
      "execution_count": 58,
      "outputs": []
    },
    {
      "cell_type": "code",
      "metadata": {
        "colab": {
          "base_uri": "https://localhost:8080/"
        },
        "id": "CAEDDjDgmT8A",
        "outputId": "1ab6b5f3-2448-4485-e1b3-4d0d2588e9a8"
      },
      "source": [
        "#Fit third model\n",
        "model3.fit(X_train, y_train, epochs=25, batch_size=64)"
      ],
      "execution_count": 59,
      "outputs": [
        {
          "output_type": "stream",
          "text": [
            "Epoch 1/25\n",
            "764/764 [==============================] - 4s 5ms/step - loss: 1.3362 - accuracy: 0.6398\n",
            "Epoch 2/25\n",
            "764/764 [==============================] - 3s 5ms/step - loss: 0.8952 - accuracy: 0.7163\n",
            "Epoch 3/25\n",
            "764/764 [==============================] - 3s 5ms/step - loss: 0.7005 - accuracy: 0.7762\n",
            "Epoch 4/25\n",
            "764/764 [==============================] - 3s 5ms/step - loss: 0.5918 - accuracy: 0.8123\n",
            "Epoch 5/25\n",
            "764/764 [==============================] - 4s 5ms/step - loss: 0.5231 - accuracy: 0.8359\n",
            "Epoch 6/25\n",
            "764/764 [==============================] - 4s 5ms/step - loss: 0.4677 - accuracy: 0.8529\n",
            "Epoch 7/25\n",
            "764/764 [==============================] - 4s 5ms/step - loss: 0.4392 - accuracy: 0.8623\n",
            "Epoch 8/25\n",
            "764/764 [==============================] - 4s 5ms/step - loss: 0.4020 - accuracy: 0.8737\n",
            "Epoch 9/25\n",
            "764/764 [==============================] - 4s 5ms/step - loss: 0.3832 - accuracy: 0.8804\n",
            "Epoch 10/25\n",
            "764/764 [==============================] - 4s 5ms/step - loss: 0.3566 - accuracy: 0.8882\n",
            "Epoch 11/25\n",
            "764/764 [==============================] - 4s 5ms/step - loss: 0.3488 - accuracy: 0.8906\n",
            "Epoch 12/25\n",
            "764/764 [==============================] - 4s 5ms/step - loss: 0.3344 - accuracy: 0.8973\n",
            "Epoch 13/25\n",
            "764/764 [==============================] - 4s 5ms/step - loss: 0.3201 - accuracy: 0.8991\n",
            "Epoch 14/25\n",
            "764/764 [==============================] - 4s 5ms/step - loss: 0.3037 - accuracy: 0.9058\n",
            "Epoch 15/25\n",
            "764/764 [==============================] - 4s 5ms/step - loss: 0.2955 - accuracy: 0.9088\n",
            "Epoch 16/25\n",
            "764/764 [==============================] - 3s 5ms/step - loss: 0.2857 - accuracy: 0.9116\n",
            "Epoch 17/25\n",
            "764/764 [==============================] - 3s 5ms/step - loss: 0.2799 - accuracy: 0.9127\n",
            "Epoch 18/25\n",
            "764/764 [==============================] - 4s 5ms/step - loss: 0.2674 - accuracy: 0.9172\n",
            "Epoch 19/25\n",
            "764/764 [==============================] - 3s 5ms/step - loss: 0.2752 - accuracy: 0.9149\n",
            "Epoch 20/25\n",
            "764/764 [==============================] - 3s 5ms/step - loss: 0.2576 - accuracy: 0.9197\n",
            "Epoch 21/25\n",
            "764/764 [==============================] - 3s 5ms/step - loss: 0.2462 - accuracy: 0.9235\n",
            "Epoch 22/25\n",
            "764/764 [==============================] - 3s 5ms/step - loss: 0.2486 - accuracy: 0.9231\n",
            "Epoch 23/25\n",
            "764/764 [==============================] - 3s 5ms/step - loss: 0.2379 - accuracy: 0.9267\n",
            "Epoch 24/25\n",
            "764/764 [==============================] - 4s 5ms/step - loss: 0.2340 - accuracy: 0.9272\n",
            "Epoch 25/25\n",
            "764/764 [==============================] - 4s 5ms/step - loss: 0.2211 - accuracy: 0.9311\n"
          ],
          "name": "stdout"
        },
        {
          "output_type": "execute_result",
          "data": {
            "text/plain": [
              "<tensorflow.python.keras.callbacks.History at 0x7fe58c72a790>"
            ]
          },
          "metadata": {
            "tags": []
          },
          "execution_count": 59
        }
      ]
    },
    {
      "cell_type": "code",
      "metadata": {
        "id": "MdDmQgbYmXOg"
      },
      "source": [
        "#Getting predictions for test set\n",
        "y_pred3 = np.argmax(model3.predict(X_test), axis = 1)"
      ],
      "execution_count": 60,
      "outputs": []
    },
    {
      "cell_type": "code",
      "metadata": {
        "id": "hN3EYeUimvvB"
      },
      "source": [
        "#Updating predicted values to words\n",
        "y_pred3_list = []\n",
        "for value in y_pred3:\n",
        "  y_pred3_list.append(tar_dict[value])\n",
        "y_pred3_words = np.array(y_pred3_list)"
      ],
      "execution_count": 61,
      "outputs": []
    },
    {
      "cell_type": "code",
      "metadata": {
        "colab": {
          "base_uri": "https://localhost:8080/"
        },
        "id": "gTrGJfbXm2OK",
        "outputId": "b0fd7fad-4133-426d-eda6-62ca3476025f"
      },
      "source": [
        "#Getting accuracy score for test set\n",
        "accuracy_score(y_test_actual, y_pred3_words)"
      ],
      "execution_count": 62,
      "outputs": [
        {
          "output_type": "execute_result",
          "data": {
            "text/plain": [
              "0.9165847665847666"
            ]
          },
          "metadata": {
            "tags": []
          },
          "execution_count": 62
        }
      ]
    },
    {
      "cell_type": "markdown",
      "metadata": {
        "id": "jftswNCUTmoz"
      },
      "source": [
        "This model had accuracy scores that were approximately equal for the train and test sets; however, there was still room for improvement on the kaggle set."
      ]
    },
    {
      "cell_type": "code",
      "metadata": {
        "colab": {
          "base_uri": "https://localhost:8080/"
        },
        "id": "PScCjdSNIqpV",
        "outputId": "7ba15e5e-57c5-4907-fb1b-08a0647b1daf"
      },
      "source": [
        "#Getting counts of each label in order to address class imbalance\n",
        "y.sum()"
      ],
      "execution_count": 63,
      "outputs": [
        {
          "output_type": "execute_result",
          "data": {
            "text/plain": [
              "down        2359\n",
              "go          2372\n",
              "left        2353\n",
              "no          2375\n",
              "off         2357\n",
              "on          2367\n",
              "right       2367\n",
              "silence      396\n",
              "stop        2380\n",
              "unknown    41039\n",
              "up          2375\n",
              "yes         2377\n",
              "dtype: int64"
            ]
          },
          "metadata": {
            "tags": []
          },
          "execution_count": 63
        }
      ]
    },
    {
      "cell_type": "code",
      "metadata": {
        "id": "K6FQbuGtI1J1"
      },
      "source": [
        "#Getting total number of clips\n",
        "total = len(y)"
      ],
      "execution_count": 64,
      "outputs": []
    },
    {
      "cell_type": "code",
      "metadata": {
        "id": "EfHQOFqIJajk"
      },
      "source": [
        "#Getting weights for each target\n",
        "weight_for_0 = (1 / 2359) * (total / 12.0)\n",
        "weight_for_1 = (1 / 2372) * (total / 12.0)\n",
        "weight_for_2 = (1 / 2353) * (total / 12.0)\n",
        "weight_for_3 = (1 / 2375) * (total / 12.0)\n",
        "weight_for_4 = (1 / 2357) * (total / 12.0)\n",
        "weight_for_5 = (1 / 2367) * (total / 12.0)\n",
        "weight_for_6 = (1 / 2367) * (total / 12.0)\n",
        "weight_for_7 = (1 / 396) * (total / 12.0)\n",
        "weight_for_8 = (1 / 2380) * (total / 12.0)\n",
        "weight_for_9 = (1 / 41039) * (total / 12.0)\n",
        "weight_for_10 = (1 / 2375) * (total / 12.0)\n",
        "weight_for_11 = (1 / 2377) * (total / 12.0)\n",
        "\n",
        "\n",
        "class_weight = {0: weight_for_0, 1: weight_for_1, 2: weight_for_2, 3: weight_for_3,\n",
        "                4: weight_for_0, 5: weight_for_5, 6: weight_for_6,\n",
        "                7: weight_for_7, 8: weight_for_8, 9: weight_for_9, 10: weight_for_10,\n",
        "                11: weight_for_11}"
      ],
      "execution_count": 65,
      "outputs": []
    },
    {
      "cell_type": "code",
      "metadata": {
        "id": "OKfYS3haJrkM"
      },
      "source": [
        "#Instantiate fourth model\n",
        "model4 = Sequential()"
      ],
      "execution_count": 66,
      "outputs": []
    },
    {
      "cell_type": "code",
      "metadata": {
        "id": "6Wjwe5ueJvq-"
      },
      "source": [
        "#Build fourth model\n",
        "model4.add(InputLayer(input_shape=input_shape))\n",
        "model4.add(Conv1D(32,3, activation='relu'))\n",
        "model4.add(MaxPooling1D())\n",
        "model4.add(Dropout(0.3))\n",
        "model4.add(Conv1D(64,3, activation='relu'))\n",
        "model4.add(Flatten())\n",
        "model4.add(Dense(128, activation='relu'))\n",
        "model4.add(Dropout(0.3))\n",
        "model4.add(Dense(64, activation='relu'))\n",
        "model4.add(Dropout(0.3))\n",
        "model4.add(Dense(12, activation='softmax'))"
      ],
      "execution_count": 67,
      "outputs": []
    },
    {
      "cell_type": "code",
      "metadata": {
        "id": "HM-yS486J76D"
      },
      "source": [
        "#Compile fourth model\n",
        "model4.compile(optimizer='adam',\n",
        "              loss='categorical_crossentropy',\n",
        "              metrics=['accuracy'])"
      ],
      "execution_count": 68,
      "outputs": []
    },
    {
      "cell_type": "code",
      "metadata": {
        "colab": {
          "base_uri": "https://localhost:8080/"
        },
        "id": "zBZEWxgdJ-wN",
        "outputId": "021de805-08cb-450d-849e-e924d86a9ca5"
      },
      "source": [
        "#Fit fourth model\n",
        "model4.fit(X_train, y_train, epochs=25, batch_size=64, class_weight=class_weight)"
      ],
      "execution_count": 69,
      "outputs": [
        {
          "output_type": "stream",
          "text": [
            "WARNING:tensorflow:From /usr/local/lib/python3.7/dist-packages/tensorflow/python/ops/array_ops.py:5049: calling gather (from tensorflow.python.ops.array_ops) with validate_indices is deprecated and will be removed in a future version.\n",
            "Instructions for updating:\n",
            "The `validate_indices` argument has no effect. Indices are always validated on CPU and never validated on GPU.\n",
            "Epoch 1/25\n",
            "764/764 [==============================] - 4s 5ms/step - loss: 1.9552 - accuracy: 0.2029\n",
            "Epoch 2/25\n",
            "764/764 [==============================] - 4s 5ms/step - loss: 1.2567 - accuracy: 0.3684\n",
            "Epoch 3/25\n",
            "764/764 [==============================] - 4s 5ms/step - loss: 0.9669 - accuracy: 0.4504\n",
            "Epoch 4/25\n",
            "764/764 [==============================] - 4s 5ms/step - loss: 0.8149 - accuracy: 0.5126\n",
            "Epoch 5/25\n",
            "764/764 [==============================] - 4s 5ms/step - loss: 0.7163 - accuracy: 0.5517\n",
            "Epoch 6/25\n",
            "764/764 [==============================] - 4s 5ms/step - loss: 0.6464 - accuracy: 0.5840\n",
            "Epoch 7/25\n",
            "764/764 [==============================] - 4s 5ms/step - loss: 0.5955 - accuracy: 0.6163\n",
            "Epoch 8/25\n",
            "764/764 [==============================] - 4s 5ms/step - loss: 0.5644 - accuracy: 0.6351\n",
            "Epoch 9/25\n",
            "764/764 [==============================] - 4s 5ms/step - loss: 0.5188 - accuracy: 0.6535\n",
            "Epoch 10/25\n",
            "764/764 [==============================] - 4s 5ms/step - loss: 0.4878 - accuracy: 0.6694\n",
            "Epoch 11/25\n",
            "764/764 [==============================] - 4s 5ms/step - loss: 0.4743 - accuracy: 0.6703\n",
            "Epoch 12/25\n",
            "764/764 [==============================] - 4s 5ms/step - loss: 0.4343 - accuracy: 0.6992\n",
            "Epoch 13/25\n",
            "764/764 [==============================] - 4s 5ms/step - loss: 0.4345 - accuracy: 0.7024\n",
            "Epoch 14/25\n",
            "764/764 [==============================] - 4s 5ms/step - loss: 0.4072 - accuracy: 0.7152\n",
            "Epoch 15/25\n",
            "764/764 [==============================] - 4s 5ms/step - loss: 0.3984 - accuracy: 0.7260\n",
            "Epoch 16/25\n",
            "764/764 [==============================] - 4s 5ms/step - loss: 0.3892 - accuracy: 0.7319\n",
            "Epoch 17/25\n",
            "764/764 [==============================] - 4s 5ms/step - loss: 0.3703 - accuracy: 0.7391\n",
            "Epoch 18/25\n",
            "764/764 [==============================] - 4s 5ms/step - loss: 0.3790 - accuracy: 0.7383\n",
            "Epoch 19/25\n",
            "764/764 [==============================] - 4s 5ms/step - loss: 0.3521 - accuracy: 0.7473\n",
            "Epoch 20/25\n",
            "764/764 [==============================] - 4s 5ms/step - loss: 0.3661 - accuracy: 0.7494\n",
            "Epoch 21/25\n",
            "764/764 [==============================] - 4s 5ms/step - loss: 0.3326 - accuracy: 0.7570\n",
            "Epoch 22/25\n",
            "764/764 [==============================] - 4s 5ms/step - loss: 0.3411 - accuracy: 0.7619\n",
            "Epoch 23/25\n",
            "764/764 [==============================] - 4s 5ms/step - loss: 0.3087 - accuracy: 0.7749\n",
            "Epoch 24/25\n",
            "764/764 [==============================] - 4s 5ms/step - loss: 0.3067 - accuracy: 0.7668\n",
            "Epoch 25/25\n",
            "764/764 [==============================] - 4s 5ms/step - loss: 0.3120 - accuracy: 0.7738\n"
          ],
          "name": "stdout"
        },
        {
          "output_type": "execute_result",
          "data": {
            "text/plain": [
              "<tensorflow.python.keras.callbacks.History at 0x7fe58c25fa10>"
            ]
          },
          "metadata": {
            "tags": []
          },
          "execution_count": 69
        }
      ]
    },
    {
      "cell_type": "code",
      "metadata": {
        "id": "j5FGLXkcKJaj"
      },
      "source": [
        "#Getting predictions for test set\n",
        "y_pred4 = np.argmax(model4.predict(X_test), axis = 1)"
      ],
      "execution_count": 70,
      "outputs": []
    },
    {
      "cell_type": "code",
      "metadata": {
        "id": "UuL_F8M4KotJ"
      },
      "source": [
        "#Updating predicted values to words\n",
        "y_pred4_list = []\n",
        "for value in y_pred4:\n",
        "  y_pred4_list.append(tar_dict[value])\n",
        "y_pred4_words = np.array(y_pred4_list)"
      ],
      "execution_count": 71,
      "outputs": []
    },
    {
      "cell_type": "code",
      "metadata": {
        "colab": {
          "base_uri": "https://localhost:8080/"
        },
        "id": "gusyUaEzKv8z",
        "outputId": "b6e39a36-00be-4dcd-c44b-713a3f568472"
      },
      "source": [
        "#Getting accuracy score for test set\n",
        "accuracy_score(y_test_actual, y_pred4_words)"
      ],
      "execution_count": 72,
      "outputs": [
        {
          "output_type": "execute_result",
          "data": {
            "text/plain": [
              "0.7544226044226044"
            ]
          },
          "metadata": {
            "tags": []
          },
          "execution_count": 72
        }
      ]
    },
    {
      "cell_type": "code",
      "metadata": {
        "colab": {
          "base_uri": "https://localhost:8080/"
        },
        "id": "t-iuQr_pK25M",
        "outputId": "8150c380-1a14-4454-d883-e0ad23159279"
      },
      "source": [
        "#Saving the model\n",
        "model4.save('/content/drive/MyDrive/V7')"
      ],
      "execution_count": 73,
      "outputs": [
        {
          "output_type": "stream",
          "text": [
            "INFO:tensorflow:Assets written to: /content/drive/MyDrive/V7/assets\n"
          ],
          "name": "stdout"
        }
      ]
    },
    {
      "cell_type": "markdown",
      "metadata": {
        "id": "pN-9ed2NUnQQ"
      },
      "source": [
        "The fourth model had lower accuracy on the train/test sets; however, it performed the best on the Kaggle dataset with an accuracy of ~74%."
      ]
    },
    {
      "cell_type": "code",
      "metadata": {
        "id": "bRLqIO3mK_1D"
      },
      "source": [
        ""
      ],
      "execution_count": null,
      "outputs": []
    }
  ]
}