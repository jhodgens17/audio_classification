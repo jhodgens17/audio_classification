{
  "nbformat": 4,
  "nbformat_minor": 0,
  "metadata": {
    "colab": {
      "name": "Second Model.ipynb",
      "provenance": [],
      "collapsed_sections": [],
      "mount_file_id": "1eHdFQrAAooA_f24_R-TR1CCQUYkxNIDZ",
      "authorship_tag": "ABX9TyMNO57FBGHI/n+0qWIqx+ug",
      "include_colab_link": true
    },
    "kernelspec": {
      "name": "python3",
      "display_name": "Python 3"
    },
    "language_info": {
      "name": "python"
    },
    "accelerator": "GPU"
  },
  "cells": [
    {
      "cell_type": "markdown",
      "metadata": {
        "id": "view-in-github",
        "colab_type": "text"
      },
      "source": [
        "<a href=\"https://colab.research.google.com/github/jhodgens17/audio_classification/blob/main/Second_Model.ipynb\" target=\"_parent\"><img src=\"https://colab.research.google.com/assets/colab-badge.svg\" alt=\"Open In Colab\"/></a>"
      ]
    },
    {
      "cell_type": "code",
      "metadata": {
        "id": "BmzY_odKaAv6"
      },
      "source": [
        "#Import packages\n",
        "import os.path\n",
        "import tensorflow as tf\n",
        "import matplotlib.pyplot as plt\n",
        "import numpy as np\n",
        "import keras\n",
        "from tensorflow.keras.models import Sequential\n",
        "from tensorflow.keras.layers import Dense\n",
        "from tensorflow.keras.layers import Flatten\n",
        "from sklearn.model_selection import train_test_split\n",
        "from sklearn.metrics import accuracy_score"
      ],
      "execution_count": 68,
      "outputs": []
    },
    {
      "cell_type": "code",
      "metadata": {
        "id": "PQRFXcynaQzW"
      },
      "source": [
        "#Getting a list of files containing audio clips for 'up'\n",
        "up_files = os.listdir('/content/drive/MyDrive/train/audio/up')"
      ],
      "execution_count": 3,
      "outputs": []
    },
    {
      "cell_type": "code",
      "metadata": {
        "id": "0B_uDAqea0NT"
      },
      "source": [
        "#Getting the full path for the 'up' speech clips\n",
        "up_paths = []\n",
        "for file in up_files:\n",
        "  path = '/content/drive/MyDrive/train/audio/up/' + file\n",
        "  up_paths.append(path)"
      ],
      "execution_count": 4,
      "outputs": []
    },
    {
      "cell_type": "code",
      "metadata": {
        "id": "7JaOa-K6a3Dq"
      },
      "source": [
        "#Repeating the process for 'down' clips\n",
        "down_files = os.listdir('/content/drive/MyDrive/train/audio/down')\n",
        "down_paths = []\n",
        "for file in down_files:\n",
        "  path = '/content/drive/MyDrive/train/audio/down/' + file\n",
        "  down_paths.append(path)"
      ],
      "execution_count": 5,
      "outputs": []
    },
    {
      "cell_type": "code",
      "metadata": {
        "id": "wjIrrC0Ma3I5"
      },
      "source": [
        "#Defining function to repeat process to get waveform for each clip\n",
        "def get_waveform(path):\n",
        "  audio_binary = tf.io.read_file(path)\n",
        "  audio, sample_rate = tf.audio.decode_wav(audio_binary)\n",
        "  waveform = tf.squeeze(audio, axis=-1)\n",
        "  return waveform"
      ],
      "execution_count": 9,
      "outputs": []
    },
    {
      "cell_type": "code",
      "metadata": {
        "id": "cxz8rmGra3Lu"
      },
      "source": [
        "#Defining a function that makes all audio clips same length to get spectrogram\n",
        "def get_spectrogram(waveform):\n",
        "  zero_padding = tf.zeros([16000] - tf.shape(waveform), dtype=tf.float32)\n",
        "  equal_length = tf.concat([waveform, zero_padding], 0)\n",
        "  spectrogram = tf.signal.stft(equal_length, frame_length=255, frame_step=128)\n",
        "  spectrogram = tf.abs(spectrogram)\n",
        "  return spectrogram"
      ],
      "execution_count": 6,
      "outputs": []
    },
    {
      "cell_type": "code",
      "metadata": {
        "id": "gtna-0Q0a3On"
      },
      "source": [
        "#Getting all of the files\n",
        "up_files_ds = tf.data.Dataset.from_tensor_slices(up_paths)\n",
        "down_files_ds = tf.data.Dataset.from_tensor_slices(down_paths)"
      ],
      "execution_count": 7,
      "outputs": []
    },
    {
      "cell_type": "code",
      "metadata": {
        "id": "iSN_qOXIa3Rh"
      },
      "source": [
        "#Getting the waveform for each file\n",
        "up_waveform_ds = up_files_ds.map(get_waveform)\n",
        "down_waveform_ds = down_files_ds.map(get_waveform)"
      ],
      "execution_count": 10,
      "outputs": []
    },
    {
      "cell_type": "code",
      "metadata": {
        "id": "_e4byrqjcWI2"
      },
      "source": [
        "#Getting the spectrogram for each file\n",
        "up_spectrogram_ds = up_waveform_ds.map(get_spectrogram)\n",
        "down_spectrogram_ds = down_waveform_ds.map(get_spectrogram)"
      ],
      "execution_count": 11,
      "outputs": []
    },
    {
      "cell_type": "code",
      "metadata": {
        "id": "DaC-V-b1dJuS"
      },
      "source": [
        "X = []\n",
        "y = []\n",
        "for element in up_spectrogram_ds:\n",
        "  X.append(element.numpy())\n",
        "  y.append(1)"
      ],
      "execution_count": 18,
      "outputs": []
    },
    {
      "cell_type": "code",
      "metadata": {
        "id": "L42HrKxhfqub"
      },
      "source": [
        "for element in down_spectrogram_ds:\n",
        "  X.append(element.numpy())\n",
        "  y.append(0)"
      ],
      "execution_count": 21,
      "outputs": []
    },
    {
      "cell_type": "code",
      "metadata": {
        "id": "H7HtSgX1hpJD"
      },
      "source": [
        "X = np.array(X)\n",
        "y = np.array(y)"
      ],
      "execution_count": 24,
      "outputs": []
    },
    {
      "cell_type": "code",
      "metadata": {
        "id": "13ipSZ2XhqHa"
      },
      "source": [
        "X_train, X_test, y_train, y_test = train_test_split(X, y)"
      ],
      "execution_count": 25,
      "outputs": []
    },
    {
      "cell_type": "code",
      "metadata": {
        "id": "ooCqXgdKoU--"
      },
      "source": [
        "from tensorflow.keras import models\n",
        "from tensorflow.keras import layers\n",
        "from tensorflow.keras.layers import Flatten\n",
        "from tensorflow.keras.layers import Input\n",
        "from tensorflow.keras.layers.experimental import preprocessing"
      ],
      "execution_count": 109,
      "outputs": []
    },
    {
      "cell_type": "code",
      "metadata": {
        "id": "KqxB9VXQoqAr"
      },
      "source": [
        "model = Sequential()"
      ],
      "execution_count": 110,
      "outputs": []
    },
    {
      "cell_type": "code",
      "metadata": {
        "colab": {
          "base_uri": "https://localhost:8080/"
        },
        "id": "Ff9B6A9bproF",
        "outputId": "06117079-e5ca-4495-b1e2-d7cf0a352a52"
      },
      "source": [
        "for spectrogram in up_spectrogram_ds.take(1):\n",
        "  input_shape = spectrogram.shape\n",
        "print('Input shape:', input_shape)"
      ],
      "execution_count": 95,
      "outputs": [
        {
          "output_type": "stream",
          "text": [
            "Input shape: (124, 129)\n"
          ],
          "name": "stdout"
        }
      ]
    },
    {
      "cell_type": "code",
      "metadata": {
        "colab": {
          "base_uri": "https://localhost:8080/"
        },
        "id": "U-rzUrkvqE9a",
        "outputId": "94d008f1-0f04-4182-8ab0-819f6df84714"
      },
      "source": [
        "model.add(Input(shape=input_shape))\n",
        "model.add(Flatten())\n",
        "model.add(Dense(12, activation='relu'))\n",
        "model.add(Dense(8, activation='relu'))\n",
        "model.add(Dense(1, activation='sigmoid'))"
      ],
      "execution_count": 111,
      "outputs": [
        {
          "output_type": "stream",
          "text": [
            "WARNING:tensorflow:Please add `keras.layers.InputLayer` instead of `keras.Input` to Sequential model. `keras.Input` is intended to be used by Functional model.\n"
          ],
          "name": "stdout"
        }
      ]
    },
    {
      "cell_type": "code",
      "metadata": {
        "id": "Qpp_qPD0qWQd"
      },
      "source": [
        "model.compile(optimizer='rmsprop',\n",
        "              loss='binary_crossentropy',\n",
        "              metrics=['accuracy'])"
      ],
      "execution_count": 112,
      "outputs": []
    },
    {
      "cell_type": "code",
      "metadata": {
        "colab": {
          "base_uri": "https://localhost:8080/"
        },
        "id": "5xuWgWeiqj3s",
        "outputId": "c6bc7ca5-e3c1-45b0-8ace-f92d905bf6c5"
      },
      "source": [
        "model.fit(X_train, y_train, epochs=10, batch_size=64)"
      ],
      "execution_count": 113,
      "outputs": [
        {
          "output_type": "stream",
          "text": [
            "Epoch 1/10\n",
            "56/56 [==============================] - 1s 5ms/step - loss: 0.5898 - accuracy: 0.6941\n",
            "Epoch 2/10\n",
            "56/56 [==============================] - 0s 5ms/step - loss: 0.3778 - accuracy: 0.8893\n",
            "Epoch 3/10\n",
            "56/56 [==============================] - 0s 5ms/step - loss: 0.2753 - accuracy: 0.9200\n",
            "Epoch 4/10\n",
            "56/56 [==============================] - 0s 5ms/step - loss: 0.2029 - accuracy: 0.9420\n",
            "Epoch 5/10\n",
            "56/56 [==============================] - 0s 5ms/step - loss: 0.1525 - accuracy: 0.9603\n",
            "Epoch 6/10\n",
            "56/56 [==============================] - 0s 5ms/step - loss: 0.1129 - accuracy: 0.9682\n",
            "Epoch 7/10\n",
            "56/56 [==============================] - 0s 5ms/step - loss: 0.0928 - accuracy: 0.9772\n",
            "Epoch 8/10\n",
            "56/56 [==============================] - 0s 5ms/step - loss: 0.0830 - accuracy: 0.9786\n",
            "Epoch 9/10\n",
            "56/56 [==============================] - 0s 5ms/step - loss: 0.0641 - accuracy: 0.9828\n",
            "Epoch 10/10\n",
            "56/56 [==============================] - 0s 5ms/step - loss: 0.0569 - accuracy: 0.9865\n"
          ],
          "name": "stdout"
        },
        {
          "output_type": "execute_result",
          "data": {
            "text/plain": [
              "<tensorflow.python.keras.callbacks.History at 0x7f03362b6650>"
            ]
          },
          "metadata": {
            "tags": []
          },
          "execution_count": 113
        }
      ]
    },
    {
      "cell_type": "code",
      "metadata": {
        "id": "b0pjRbpjqn3a"
      },
      "source": [
        "y_pred = np.round(model.predict(X_test))"
      ],
      "execution_count": 119,
      "outputs": []
    },
    {
      "cell_type": "code",
      "metadata": {
        "colab": {
          "base_uri": "https://localhost:8080/"
        },
        "id": "tcMjBUoYq2qB",
        "outputId": "1c240183-0465-46c6-8717-c9bd4b204866"
      },
      "source": [
        "accuracy_score(y_test, y_pred)"
      ],
      "execution_count": 120,
      "outputs": [
        {
          "output_type": "execute_result",
          "data": {
            "text/plain": [
              "0.9527027027027027"
            ]
          },
          "metadata": {
            "tags": []
          },
          "execution_count": 120
        }
      ]
    },
    {
      "cell_type": "code",
      "metadata": {
        "id": "G-aiv0K1rU5k"
      },
      "source": [
        ""
      ],
      "execution_count": null,
      "outputs": []
    }
  ]
}