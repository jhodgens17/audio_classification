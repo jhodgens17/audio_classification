{
  "nbformat": 4,
  "nbformat_minor": 0,
  "metadata": {
    "colab": {
      "name": "Third Model.ipynb",
      "provenance": [],
      "collapsed_sections": [],
      "mount_file_id": "1imR-E9gKeuHDGVnJLSTuyseCuQNNFY0S",
      "authorship_tag": "ABX9TyO+NB6zqlONpnpnUFMSpB0j",
      "include_colab_link": true
    },
    "kernelspec": {
      "name": "python3",
      "display_name": "Python 3"
    },
    "language_info": {
      "name": "python"
    },
    "accelerator": "GPU"
  },
  "cells": [
    {
      "cell_type": "markdown",
      "metadata": {
        "id": "view-in-github",
        "colab_type": "text"
      },
      "source": [
        "<a href=\"https://colab.research.google.com/github/jhodgens17/audio_classification/blob/main/Third_Model.ipynb\" target=\"_parent\"><img src=\"https://colab.research.google.com/assets/colab-badge.svg\" alt=\"Open In Colab\"/></a>"
      ]
    },
    {
      "cell_type": "code",
      "metadata": {
        "id": "lK_UhoTBuSkg"
      },
      "source": [
        "#Import packages\n",
        "import os.path\n",
        "import tensorflow as tf\n",
        "import matplotlib.pyplot as plt\n",
        "import numpy as np\n",
        "import keras\n",
        "from tensorflow.keras.models import Sequential\n",
        "from tensorflow.keras.layers import Dense\n",
        "from tensorflow.keras.layers import Flatten\n",
        "from tensorflow.keras.layers import Input\n",
        "from tensorflow.keras.layers.experimental import preprocessing\n",
        "from sklearn.model_selection import train_test_split\n",
        "from sklearn.metrics import accuracy_score"
      ],
      "execution_count": 31,
      "outputs": []
    },
    {
      "cell_type": "code",
      "metadata": {
        "id": "w_p0S3JUvFsI"
      },
      "source": [
        "targets = ['down', 'go', 'left', 'no', 'off',\n",
        "           'on', 'right', 'stop', 'up', 'yes']"
      ],
      "execution_count": 2,
      "outputs": []
    },
    {
      "cell_type": "code",
      "metadata": {
        "id": "WhTKG4hfvm3r"
      },
      "source": [
        "all_files = {}\n",
        "for target in targets:\n",
        "  path = '/content/drive/MyDrive/train/audio/'+target\n",
        "  target_list = os.listdir(path)\n",
        "  all_files[target] = target_list"
      ],
      "execution_count": 9,
      "outputs": []
    },
    {
      "cell_type": "code",
      "metadata": {
        "colab": {
          "base_uri": "https://localhost:8080/"
        },
        "id": "jbHQiGWEwQ-T",
        "outputId": "f6b0386a-6737-44e0-a36d-f88f31a7d96e"
      },
      "source": [
        "len(all_files)"
      ],
      "execution_count": 10,
      "outputs": [
        {
          "output_type": "execute_result",
          "data": {
            "text/plain": [
              "10"
            ]
          },
          "metadata": {
            "tags": []
          },
          "execution_count": 10
        }
      ]
    },
    {
      "cell_type": "code",
      "metadata": {
        "colab": {
          "base_uri": "https://localhost:8080/"
        },
        "id": "Xm2AkJwLwtJE",
        "outputId": "793dbfb5-22bc-4b7b-84ac-73632d59a971"
      },
      "source": [
        "for target in all_files:\n",
        "  print(len(all_files[target]))"
      ],
      "execution_count": 12,
      "outputs": [
        {
          "output_type": "stream",
          "text": [
            "2359\n",
            "2372\n",
            "2353\n",
            "2375\n",
            "2357\n",
            "2367\n",
            "2367\n",
            "2380\n",
            "2375\n",
            "2377\n"
          ],
          "name": "stdout"
        }
      ]
    },
    {
      "cell_type": "code",
      "metadata": {
        "colab": {
          "base_uri": "https://localhost:8080/",
          "height": 35
        },
        "id": "2mK1tnVAxuVu",
        "outputId": "569ca93a-cb72-456d-ce9d-9c5daab0fce7"
      },
      "source": [
        "all_files['up'][0]"
      ],
      "execution_count": 13,
      "outputs": [
        {
          "output_type": "execute_result",
          "data": {
            "application/vnd.google.colaboratory.intrinsic+json": {
              "type": "string"
            },
            "text/plain": [
              "'a4baac4e_nohash_0.wav'"
            ]
          },
          "metadata": {
            "tags": []
          },
          "execution_count": 13
        }
      ]
    },
    {
      "cell_type": "code",
      "metadata": {
        "id": "BLDqH4DNw6ed"
      },
      "source": [
        "all_paths = {}\n",
        "for target in all_files:\n",
        "  paths = []\n",
        "  for file in all_files[target]:\n",
        "    path = '/content/drive/MyDrive/train/audio/' + target + '/' + file\n",
        "    paths.append(path)\n",
        "  all_paths[target] = paths"
      ],
      "execution_count": 14,
      "outputs": []
    },
    {
      "cell_type": "code",
      "metadata": {
        "colab": {
          "base_uri": "https://localhost:8080/"
        },
        "id": "h3KAuniKyKAO",
        "outputId": "b2ae0f88-5680-4d44-c993-d761ef8c5022"
      },
      "source": [
        "len(all_paths)"
      ],
      "execution_count": 16,
      "outputs": [
        {
          "output_type": "execute_result",
          "data": {
            "text/plain": [
              "10"
            ]
          },
          "metadata": {
            "tags": []
          },
          "execution_count": 16
        }
      ]
    },
    {
      "cell_type": "code",
      "metadata": {
        "colab": {
          "base_uri": "https://localhost:8080/"
        },
        "id": "ID5qy7sfyLNr",
        "outputId": "f0508377-5dea-42bd-bafa-7d6cd667e61a"
      },
      "source": [
        "for target in all_paths:\n",
        "  print(len(all_paths[target]))"
      ],
      "execution_count": 17,
      "outputs": [
        {
          "output_type": "stream",
          "text": [
            "2359\n",
            "2372\n",
            "2353\n",
            "2375\n",
            "2357\n",
            "2367\n",
            "2367\n",
            "2380\n",
            "2375\n",
            "2377\n"
          ],
          "name": "stdout"
        }
      ]
    },
    {
      "cell_type": "code",
      "metadata": {
        "colab": {
          "base_uri": "https://localhost:8080/",
          "height": 35
        },
        "id": "SG0-rRjNyUaL",
        "outputId": "92b22640-6387-4cc2-aa0f-278631421fe8"
      },
      "source": [
        "all_paths['stop'][0]"
      ],
      "execution_count": 18,
      "outputs": [
        {
          "output_type": "execute_result",
          "data": {
            "application/vnd.google.colaboratory.intrinsic+json": {
              "type": "string"
            },
            "text/plain": [
              "'/content/drive/MyDrive/train/audio/stop/15c563d7_nohash_1.wav'"
            ]
          },
          "metadata": {
            "tags": []
          },
          "execution_count": 18
        }
      ]
    },
    {
      "cell_type": "code",
      "metadata": {
        "id": "-GAj8vmDykcb"
      },
      "source": [
        "#Defining function to repeat process to get waveform for each clip\n",
        "def get_waveform(path):\n",
        "  audio_binary = tf.io.read_file(path)\n",
        "  audio, sample_rate = tf.audio.decode_wav(audio_binary)\n",
        "  waveform = tf.squeeze(audio, axis=-1)\n",
        "  return waveform"
      ],
      "execution_count": 19,
      "outputs": []
    },
    {
      "cell_type": "code",
      "metadata": {
        "id": "7w_3dHlXy4NR"
      },
      "source": [
        "#Defining a function that makes all audio clips same length to get spectrogram\n",
        "def get_spectrogram(waveform):\n",
        "  zero_padding = tf.zeros([16000] - tf.shape(waveform), dtype=tf.float32)\n",
        "  equal_length = tf.concat([waveform, zero_padding], 0)\n",
        "  spectrogram = tf.signal.stft(equal_length, frame_length=255, frame_step=128)\n",
        "  spectrogram = tf.abs(spectrogram)\n",
        "  return spectrogram"
      ],
      "execution_count": 20,
      "outputs": []
    },
    {
      "cell_type": "code",
      "metadata": {
        "id": "GiUuuV2LzD47"
      },
      "source": [
        "y = []\n",
        "all_paths = []\n",
        "for target in all_files:\n",
        "  for file in all_files[target]:\n",
        "    path = '/content/drive/MyDrive/train/audio/' + target + '/' + file\n",
        "    all_paths.append(path)\n",
        "    y.append(target)"
      ],
      "execution_count": 22,
      "outputs": []
    },
    {
      "cell_type": "code",
      "metadata": {
        "id": "TASRbOks1_y0"
      },
      "source": [
        "#Getting all of the files\n",
        "files_ds = tf.data.Dataset.from_tensor_slices(all_paths)"
      ],
      "execution_count": 25,
      "outputs": []
    },
    {
      "cell_type": "code",
      "metadata": {
        "id": "ykccnluC6RrT"
      },
      "source": [
        "#Getting the waveform for each file\n",
        "waveform_ds = files_ds.map(get_waveform)"
      ],
      "execution_count": 26,
      "outputs": []
    },
    {
      "cell_type": "code",
      "metadata": {
        "id": "MqtM2yni6bq8"
      },
      "source": [
        "#Getting the spectrogram for each file\n",
        "spectrogram_ds = waveform_ds.map(get_spectrogram)"
      ],
      "execution_count": 27,
      "outputs": []
    },
    {
      "cell_type": "code",
      "metadata": {
        "id": "fx8e-rv66e8m"
      },
      "source": [
        "X = []\n",
        "for element in spectrogram_ds:\n",
        "  X.append(element.numpy())"
      ],
      "execution_count": 28,
      "outputs": []
    },
    {
      "cell_type": "code",
      "metadata": {
        "id": "V8J6sxDm60yE"
      },
      "source": [
        "X = np.array(X)\n",
        "y = np.array(y)"
      ],
      "execution_count": 29,
      "outputs": []
    },
    {
      "cell_type": "code",
      "metadata": {
        "colab": {
          "base_uri": "https://localhost:8080/"
        },
        "id": "P07rjkq5Nf1q",
        "outputId": "0b6c1386-c82c-4b57-8f09-a109a06e9f0d"
      },
      "source": [
        "y"
      ],
      "execution_count": 40,
      "outputs": [
        {
          "output_type": "execute_result",
          "data": {
            "text/plain": [
              "array(['down', 'down', 'down', ..., 'yes', 'yes', 'yes'], dtype='<U5')"
            ]
          },
          "metadata": {
            "tags": []
          },
          "execution_count": 40
        }
      ]
    },
    {
      "cell_type": "code",
      "metadata": {
        "id": "bSenhWbMNf4c"
      },
      "source": [
        "import pandas as pd"
      ],
      "execution_count": 41,
      "outputs": []
    },
    {
      "cell_type": "code",
      "metadata": {
        "id": "B2ajcAnCNf7U"
      },
      "source": [
        "y = pd.get_dummies(y)"
      ],
      "execution_count": 43,
      "outputs": []
    },
    {
      "cell_type": "code",
      "metadata": {
        "id": "tk3v2qWLMPPZ"
      },
      "source": [
        "X_train, X_test, y_train, y_test = train_test_split(X, y)"
      ],
      "execution_count": 44,
      "outputs": []
    },
    {
      "cell_type": "code",
      "metadata": {
        "id": "i6Wo1nQUMR2u"
      },
      "source": [
        "model = Sequential()"
      ],
      "execution_count": 54,
      "outputs": []
    },
    {
      "cell_type": "code",
      "metadata": {
        "colab": {
          "base_uri": "https://localhost:8080/"
        },
        "id": "eNEDENq2MjOv",
        "outputId": "c3b57de7-3188-4c76-a071-6edd28b0412f"
      },
      "source": [
        "for spectrogram in spectrogram_ds.take(1):\n",
        "  input_shape = spectrogram.shape\n",
        "print('Input shape:', input_shape)"
      ],
      "execution_count": 46,
      "outputs": [
        {
          "output_type": "stream",
          "text": [
            "Input shape: (124, 129)\n"
          ],
          "name": "stdout"
        }
      ]
    },
    {
      "cell_type": "code",
      "metadata": {
        "colab": {
          "base_uri": "https://localhost:8080/"
        },
        "id": "7G4VIH8oMpm3",
        "outputId": "55bf1e52-c70c-4abf-dc0c-030915d66047"
      },
      "source": [
        "X.shape"
      ],
      "execution_count": 47,
      "outputs": [
        {
          "output_type": "execute_result",
          "data": {
            "text/plain": [
              "(23682, 124, 129)"
            ]
          },
          "metadata": {
            "tags": []
          },
          "execution_count": 47
        }
      ]
    },
    {
      "cell_type": "code",
      "metadata": {
        "id": "Q6hhaPAOM8aR"
      },
      "source": [
        "num_labels = 10"
      ],
      "execution_count": 48,
      "outputs": []
    },
    {
      "cell_type": "code",
      "metadata": {
        "colab": {
          "base_uri": "https://localhost:8080/"
        },
        "id": "CW-hakb1MruF",
        "outputId": "f7c57f5a-87d4-4cba-b7e3-2dfeb51afb34"
      },
      "source": [
        "model.add(Input(shape=input_shape))\n",
        "model.add(Flatten())\n",
        "model.add(Dense(12, activation='relu'))\n",
        "model.add(Dense(8, activation='relu'))\n",
        "model.add(Dense(num_labels))"
      ],
      "execution_count": 55,
      "outputs": [
        {
          "output_type": "stream",
          "text": [
            "WARNING:tensorflow:Please add `keras.layers.InputLayer` instead of `keras.Input` to Sequential model. `keras.Input` is intended to be used by Functional model.\n"
          ],
          "name": "stdout"
        }
      ]
    },
    {
      "cell_type": "code",
      "metadata": {
        "id": "I_ZoclG2NEO5"
      },
      "source": [
        "model.compile(optimizer='rmsprop',\n",
        "              loss='binary_crossentropy',\n",
        "              metrics=['accuracy'])"
      ],
      "execution_count": 56,
      "outputs": []
    },
    {
      "cell_type": "code",
      "metadata": {
        "colab": {
          "base_uri": "https://localhost:8080/"
        },
        "id": "VLFGeAcgNMfh",
        "outputId": "911e7526-b49d-4c73-ed9c-6ebbf4dcf966"
      },
      "source": [
        "model.fit(X_train, y_train, epochs=50, batch_size=64)"
      ],
      "execution_count": 57,
      "outputs": [
        {
          "output_type": "stream",
          "text": [
            "Epoch 1/50\n",
            "278/278 [==============================] - 2s 5ms/step - loss: 0.7819 - accuracy: 0.1247\n",
            "Epoch 2/50\n",
            "278/278 [==============================] - 1s 5ms/step - loss: 0.4679 - accuracy: 0.1709\n",
            "Epoch 3/50\n",
            "278/278 [==============================] - 1s 5ms/step - loss: 0.4557 - accuracy: 0.1990\n",
            "Epoch 4/50\n",
            "278/278 [==============================] - 1s 5ms/step - loss: 0.4559 - accuracy: 0.2183\n",
            "Epoch 5/50\n",
            "278/278 [==============================] - 1s 4ms/step - loss: 0.4584 - accuracy: 0.2218\n",
            "Epoch 6/50\n",
            "278/278 [==============================] - 1s 4ms/step - loss: 0.4526 - accuracy: 0.2278\n",
            "Epoch 7/50\n",
            "278/278 [==============================] - 1s 4ms/step - loss: 0.4515 - accuracy: 0.2298\n",
            "Epoch 8/50\n",
            "278/278 [==============================] - 1s 4ms/step - loss: 0.4487 - accuracy: 0.2320\n",
            "Epoch 9/50\n",
            "278/278 [==============================] - 1s 4ms/step - loss: 0.4532 - accuracy: 0.2374\n",
            "Epoch 10/50\n",
            "278/278 [==============================] - 1s 4ms/step - loss: 0.4431 - accuracy: 0.2297\n",
            "Epoch 11/50\n",
            "278/278 [==============================] - 1s 4ms/step - loss: 0.4493 - accuracy: 0.2297\n",
            "Epoch 12/50\n",
            "278/278 [==============================] - 1s 4ms/step - loss: 0.4476 - accuracy: 0.2377\n",
            "Epoch 13/50\n",
            "278/278 [==============================] - 1s 4ms/step - loss: 0.4536 - accuracy: 0.2415\n",
            "Epoch 14/50\n",
            "278/278 [==============================] - 1s 4ms/step - loss: 0.4486 - accuracy: 0.2380\n",
            "Epoch 15/50\n",
            "278/278 [==============================] - 1s 4ms/step - loss: 0.4498 - accuracy: 0.2436\n",
            "Epoch 16/50\n",
            "278/278 [==============================] - 1s 4ms/step - loss: 0.4455 - accuracy: 0.2406\n",
            "Epoch 17/50\n",
            "278/278 [==============================] - 1s 4ms/step - loss: 0.4447 - accuracy: 0.2495\n",
            "Epoch 18/50\n",
            "278/278 [==============================] - 1s 4ms/step - loss: 0.4463 - accuracy: 0.2467\n",
            "Epoch 19/50\n",
            "278/278 [==============================] - 1s 4ms/step - loss: 0.4516 - accuracy: 0.2428\n",
            "Epoch 20/50\n",
            "278/278 [==============================] - 1s 4ms/step - loss: 0.4445 - accuracy: 0.2492\n",
            "Epoch 21/50\n",
            "278/278 [==============================] - 1s 4ms/step - loss: 0.4441 - accuracy: 0.2469\n",
            "Epoch 22/50\n",
            "278/278 [==============================] - 1s 4ms/step - loss: 0.4454 - accuracy: 0.2487\n",
            "Epoch 23/50\n",
            "278/278 [==============================] - 1s 4ms/step - loss: 0.4433 - accuracy: 0.2494\n",
            "Epoch 24/50\n",
            "278/278 [==============================] - 1s 4ms/step - loss: 0.4500 - accuracy: 0.2506\n",
            "Epoch 25/50\n",
            "278/278 [==============================] - 1s 4ms/step - loss: 0.4540 - accuracy: 0.2552\n",
            "Epoch 26/50\n",
            "278/278 [==============================] - 1s 4ms/step - loss: 0.4459 - accuracy: 0.2496\n",
            "Epoch 27/50\n",
            "278/278 [==============================] - 1s 4ms/step - loss: 0.4457 - accuracy: 0.2554\n",
            "Epoch 28/50\n",
            "278/278 [==============================] - 1s 4ms/step - loss: 0.4477 - accuracy: 0.2548\n",
            "Epoch 29/50\n",
            "278/278 [==============================] - 1s 4ms/step - loss: 0.4492 - accuracy: 0.2511\n",
            "Epoch 30/50\n",
            "278/278 [==============================] - 1s 4ms/step - loss: 0.4464 - accuracy: 0.2586\n",
            "Epoch 31/50\n",
            "278/278 [==============================] - 1s 4ms/step - loss: 0.4528 - accuracy: 0.2590\n",
            "Epoch 32/50\n",
            "278/278 [==============================] - 1s 4ms/step - loss: 0.4500 - accuracy: 0.2610\n",
            "Epoch 33/50\n",
            "278/278 [==============================] - 1s 4ms/step - loss: 0.4452 - accuracy: 0.2579\n",
            "Epoch 34/50\n",
            "278/278 [==============================] - 1s 4ms/step - loss: 0.4414 - accuracy: 0.2618\n",
            "Epoch 35/50\n",
            "278/278 [==============================] - 1s 4ms/step - loss: 0.4415 - accuracy: 0.2639\n",
            "Epoch 36/50\n",
            "278/278 [==============================] - 1s 4ms/step - loss: 0.4436 - accuracy: 0.2663\n",
            "Epoch 37/50\n",
            "278/278 [==============================] - 1s 4ms/step - loss: 0.4436 - accuracy: 0.2656\n",
            "Epoch 38/50\n",
            "278/278 [==============================] - 1s 4ms/step - loss: 0.4478 - accuracy: 0.2651\n",
            "Epoch 39/50\n",
            "278/278 [==============================] - 1s 4ms/step - loss: 0.4400 - accuracy: 0.2633\n",
            "Epoch 40/50\n",
            "278/278 [==============================] - 1s 4ms/step - loss: 0.4370 - accuracy: 0.2618\n",
            "Epoch 41/50\n",
            "278/278 [==============================] - 1s 5ms/step - loss: 0.4411 - accuracy: 0.2642\n",
            "Epoch 42/50\n",
            "278/278 [==============================] - 1s 5ms/step - loss: 0.4450 - accuracy: 0.2689\n",
            "Epoch 43/50\n",
            "278/278 [==============================] - 1s 5ms/step - loss: 0.4527 - accuracy: 0.2730\n",
            "Epoch 44/50\n",
            "278/278 [==============================] - 1s 4ms/step - loss: 0.4497 - accuracy: 0.2703\n",
            "Epoch 45/50\n",
            "278/278 [==============================] - 1s 5ms/step - loss: 0.4527 - accuracy: 0.2809\n",
            "Epoch 46/50\n",
            "278/278 [==============================] - 1s 5ms/step - loss: 0.4494 - accuracy: 0.2692\n",
            "Epoch 47/50\n",
            "278/278 [==============================] - 1s 5ms/step - loss: 0.4449 - accuracy: 0.2726\n",
            "Epoch 48/50\n",
            "278/278 [==============================] - 1s 5ms/step - loss: 0.4444 - accuracy: 0.2770\n",
            "Epoch 49/50\n",
            "278/278 [==============================] - 1s 5ms/step - loss: 0.4456 - accuracy: 0.2744\n",
            "Epoch 50/50\n",
            "278/278 [==============================] - 1s 5ms/step - loss: 0.4450 - accuracy: 0.2776\n"
          ],
          "name": "stdout"
        },
        {
          "output_type": "execute_result",
          "data": {
            "text/plain": [
              "<tensorflow.python.keras.callbacks.History at 0x7f8e95e6fb90>"
            ]
          },
          "metadata": {
            "tags": []
          },
          "execution_count": 57
        }
      ]
    },
    {
      "cell_type": "code",
      "metadata": {
        "id": "Oiba6EZINPtx"
      },
      "source": [
        "y_pred = np.argmax(model.predict(X_test), axis = 1)"
      ],
      "execution_count": 73,
      "outputs": []
    },
    {
      "cell_type": "code",
      "metadata": {
        "id": "XX_G3lvPPAiZ"
      },
      "source": [
        "y_test_arr = y_test.idxmax(axis = 1)"
      ],
      "execution_count": 79,
      "outputs": []
    },
    {
      "cell_type": "code",
      "metadata": {
        "colab": {
          "base_uri": "https://localhost:8080/"
        },
        "id": "BOdAuzqtPTgN",
        "outputId": "0b2b3c3c-893d-4dbf-a345-b27b3d318fae"
      },
      "source": [
        "y_pred"
      ],
      "execution_count": 80,
      "outputs": [
        {
          "output_type": "execute_result",
          "data": {
            "text/plain": [
              "array([6, 8, 6, ..., 4, 6, 7])"
            ]
          },
          "metadata": {
            "tags": []
          },
          "execution_count": 80
        }
      ]
    },
    {
      "cell_type": "code",
      "metadata": {
        "colab": {
          "base_uri": "https://localhost:8080/"
        },
        "id": "yyvMdmMTQy67",
        "outputId": "3d2f5a56-3fa2-4ddb-e867-2ff5f5fae0f0"
      },
      "source": [
        "y_test.columns"
      ],
      "execution_count": 81,
      "outputs": [
        {
          "output_type": "execute_result",
          "data": {
            "text/plain": [
              "Index(['down', 'go', 'left', 'no', 'off', 'on', 'right', 'stop', 'up', 'yes'], dtype='object')"
            ]
          },
          "metadata": {
            "tags": []
          },
          "execution_count": 81
        }
      ]
    },
    {
      "cell_type": "code",
      "metadata": {
        "id": "BqJkQ64QRmHd"
      },
      "source": [
        "tar_dict = {0:'down', 1:'go', 2:'left', 3:'no', 4:'off',\n",
        "            5:'on', 6:'right', 7:'stop', 8:'up', 9:'yes'}"
      ],
      "execution_count": 84,
      "outputs": []
    },
    {
      "cell_type": "code",
      "metadata": {
        "id": "-OWcoObISK4e"
      },
      "source": [
        "y_hat = []\n",
        "for value in y_pred:\n",
        "  y_hat.append(tar_dict[value])"
      ],
      "execution_count": 85,
      "outputs": []
    },
    {
      "cell_type": "code",
      "metadata": {
        "id": "k-8WRzD8SQ8O"
      },
      "source": [
        "y_hat_arr = np.array(y_hat)"
      ],
      "execution_count": 88,
      "outputs": []
    },
    {
      "cell_type": "code",
      "metadata": {
        "colab": {
          "base_uri": "https://localhost:8080/"
        },
        "id": "XmyQnsuRS3TQ",
        "outputId": "0176153e-25c1-405a-b97d-4f35e4401be8"
      },
      "source": [
        "accuracy_score(y_test_arr, y_hat_arr)"
      ],
      "execution_count": 93,
      "outputs": [
        {
          "output_type": "execute_result",
          "data": {
            "text/plain": [
              "0.2633001182232731"
            ]
          },
          "metadata": {
            "tags": []
          },
          "execution_count": 93
        }
      ]
    },
    {
      "cell_type": "code",
      "metadata": {
        "id": "cfBnf4mMTEXw"
      },
      "source": [
        ""
      ],
      "execution_count": null,
      "outputs": []
    }
  ]
}