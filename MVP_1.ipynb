{
  "nbformat": 4,
  "nbformat_minor": 0,
  "metadata": {
    "colab": {
      "name": "MVP-1.ipynb",
      "provenance": [],
      "collapsed_sections": [],
      "mount_file_id": "19hW7dJHd9bseJEEfH9gHx4u3X-PKaFkp",
      "authorship_tag": "ABX9TyOt3jDBHtEFiYkyxuu+GbV2",
      "include_colab_link": true
    },
    "kernelspec": {
      "name": "python3",
      "display_name": "Python 3"
    },
    "language_info": {
      "name": "python"
    },
    "accelerator": "GPU"
  },
  "cells": [
    {
      "cell_type": "markdown",
      "metadata": {
        "id": "view-in-github",
        "colab_type": "text"
      },
      "source": [
        "<a href=\"https://colab.research.google.com/github/jhodgens17/audio_classification/blob/main/MVP_1.ipynb\" target=\"_parent\"><img src=\"https://colab.research.google.com/assets/colab-badge.svg\" alt=\"Open In Colab\"/></a>"
      ]
    },
    {
      "cell_type": "code",
      "metadata": {
        "id": "Gj13NAaL3ZIs"
      },
      "source": [
        "#Import packages\n",
        "import os.path\n",
        "import tensorflow as tf\n",
        "import matplotlib.pyplot as plt\n",
        "import numpy as np\n",
        "import keras\n",
        "import pandas as pd\n",
        "from tensorflow.keras.models import Sequential\n",
        "from tensorflow.keras.layers import Dense\n",
        "from tensorflow.keras.layers import Flatten\n",
        "from tensorflow.keras.layers import Input\n",
        "from tensorflow.keras.layers.experimental import preprocessing\n",
        "from sklearn.model_selection import train_test_split\n",
        "from sklearn.metrics import accuracy_score"
      ],
      "execution_count": 1,
      "outputs": []
    },
    {
      "cell_type": "code",
      "metadata": {
        "id": "z9z2zhi23hCq"
      },
      "source": [
        "target_words = ['down', 'go', 'left', 'no', 'off',\n",
        "           'on', 'right', 'stop', 'up', 'yes']"
      ],
      "execution_count": 2,
      "outputs": []
    },
    {
      "cell_type": "code",
      "metadata": {
        "id": "Co_y_x8v3xho"
      },
      "source": [
        "unknown = ['dog', 'marvin']"
      ],
      "execution_count": 3,
      "outputs": []
    },
    {
      "cell_type": "code",
      "metadata": {
        "id": "Ly27BtMiAh_5"
      },
      "source": [
        "all_words = target_words + unknown"
      ],
      "execution_count": 4,
      "outputs": []
    },
    {
      "cell_type": "code",
      "metadata": {
        "colab": {
          "base_uri": "https://localhost:8080/"
        },
        "id": "Cw8UomdLAmOz",
        "outputId": "ec301257-8667-43f5-9e08-cf1549c4864c"
      },
      "source": [
        "len(all_words)"
      ],
      "execution_count": 5,
      "outputs": [
        {
          "output_type": "execute_result",
          "data": {
            "text/plain": [
              "12"
            ]
          },
          "metadata": {
            "tags": []
          },
          "execution_count": 5
        }
      ]
    },
    {
      "cell_type": "code",
      "metadata": {
        "id": "dc1a44eH4lvy"
      },
      "source": [
        "all_files = {}\n",
        "for word in all_words:\n",
        "  path = '/content/drive/MyDrive/train/audio/'+word\n",
        "  file_list = os.listdir(path)\n",
        "  all_files[word] = file_list"
      ],
      "execution_count": 6,
      "outputs": []
    },
    {
      "cell_type": "code",
      "metadata": {
        "colab": {
          "base_uri": "https://localhost:8080/"
        },
        "id": "pze8Jya25x-C",
        "outputId": "6744a666-1cd8-43a7-9b71-4d0f288a56f4"
      },
      "source": [
        "len(all_files)"
      ],
      "execution_count": 7,
      "outputs": [
        {
          "output_type": "execute_result",
          "data": {
            "text/plain": [
              "12"
            ]
          },
          "metadata": {
            "tags": []
          },
          "execution_count": 7
        }
      ]
    },
    {
      "cell_type": "code",
      "metadata": {
        "colab": {
          "base_uri": "https://localhost:8080/"
        },
        "id": "rEa5X3QD6H75",
        "outputId": "87ad603d-78d9-4f66-b787-04b8433d441f"
      },
      "source": [
        "for word in all_files:\n",
        "  print(len(all_files[word]))"
      ],
      "execution_count": 8,
      "outputs": [
        {
          "output_type": "stream",
          "text": [
            "2359\n",
            "2372\n",
            "2353\n",
            "2375\n",
            "2357\n",
            "2367\n",
            "2367\n",
            "2380\n",
            "2375\n",
            "2377\n",
            "1746\n",
            "1746\n"
          ],
          "name": "stdout"
        }
      ]
    },
    {
      "cell_type": "code",
      "metadata": {
        "id": "Ol7274H66Lx4"
      },
      "source": [
        "total = 0\n",
        "for word in all_files:\n",
        "  total = total + len(all_files[word])"
      ],
      "execution_count": 9,
      "outputs": []
    },
    {
      "cell_type": "code",
      "metadata": {
        "colab": {
          "base_uri": "https://localhost:8080/"
        },
        "id": "t4Xtabl36egg",
        "outputId": "4c206efb-e20b-40e7-d7a9-e2675275d82c"
      },
      "source": [
        "total"
      ],
      "execution_count": 10,
      "outputs": [
        {
          "output_type": "execute_result",
          "data": {
            "text/plain": [
              "27174"
            ]
          },
          "metadata": {
            "tags": []
          },
          "execution_count": 10
        }
      ]
    },
    {
      "cell_type": "code",
      "metadata": {
        "id": "Mxv6a1zI7pQN"
      },
      "source": [
        "all_paths = {}\n",
        "for word in all_files:\n",
        "  paths = []\n",
        "  for file in all_files[word]:\n",
        "    path = '/content/drive/MyDrive/train/audio/' + word + '/' + file\n",
        "    paths.append(path)\n",
        "  all_paths[word] = paths"
      ],
      "execution_count": 11,
      "outputs": []
    },
    {
      "cell_type": "code",
      "metadata": {
        "colab": {
          "base_uri": "https://localhost:8080/"
        },
        "id": "plGpWqo0BUHC",
        "outputId": "29802c44-19d8-4c61-87c9-da54b295918c"
      },
      "source": [
        "len(all_paths)"
      ],
      "execution_count": 12,
      "outputs": [
        {
          "output_type": "execute_result",
          "data": {
            "text/plain": [
              "12"
            ]
          },
          "metadata": {
            "tags": []
          },
          "execution_count": 12
        }
      ]
    },
    {
      "cell_type": "code",
      "metadata": {
        "id": "VGIe0-cbBWJx"
      },
      "source": [
        "total_paths = 0\n",
        "for word in all_paths:\n",
        "  total_paths = total_paths + len(all_paths[word])"
      ],
      "execution_count": 13,
      "outputs": []
    },
    {
      "cell_type": "code",
      "metadata": {
        "colab": {
          "base_uri": "https://localhost:8080/"
        },
        "id": "I28FW5zyBe25",
        "outputId": "fd37cc5a-cfa7-4098-b7a1-f11c26848e10"
      },
      "source": [
        "total_paths"
      ],
      "execution_count": 14,
      "outputs": [
        {
          "output_type": "execute_result",
          "data": {
            "text/plain": [
              "27174"
            ]
          },
          "metadata": {
            "tags": []
          },
          "execution_count": 14
        }
      ]
    },
    {
      "cell_type": "code",
      "metadata": {
        "id": "0tLwVlkbBggr"
      },
      "source": [
        "y = []\n",
        "all_paths = []\n",
        "for target in all_files:\n",
        "  if target in target_words:\n",
        "    for file in all_files[target]:\n",
        "      path = '/content/drive/MyDrive/train/audio/' + target + '/' + file\n",
        "      all_paths.append(path)\n",
        "      y.append(target)\n",
        "  else:\n",
        "    for file in all_files[target]:\n",
        "      path = '/content/drive/MyDrive/train/audio/' + target + '/' + file\n",
        "      all_paths.append(path)\n",
        "      y.append('unknown')"
      ],
      "execution_count": 15,
      "outputs": []
    },
    {
      "cell_type": "code",
      "metadata": {
        "colab": {
          "base_uri": "https://localhost:8080/"
        },
        "id": "BirqB3VMQDZp",
        "outputId": "6f9cb544-3dca-4807-c4ac-c996e825676d"
      },
      "source": [
        "len(y)"
      ],
      "execution_count": 16,
      "outputs": [
        {
          "output_type": "execute_result",
          "data": {
            "text/plain": [
              "27174"
            ]
          },
          "metadata": {
            "tags": []
          },
          "execution_count": 16
        }
      ]
    },
    {
      "cell_type": "code",
      "metadata": {
        "colab": {
          "base_uri": "https://localhost:8080/"
        },
        "id": "RoWNYS59QKu9",
        "outputId": "0034629a-9c82-446e-d567-9068da6e18c5"
      },
      "source": [
        "len(all_paths)"
      ],
      "execution_count": 17,
      "outputs": [
        {
          "output_type": "execute_result",
          "data": {
            "text/plain": [
              "27174"
            ]
          },
          "metadata": {
            "tags": []
          },
          "execution_count": 17
        }
      ]
    },
    {
      "cell_type": "code",
      "metadata": {
        "colab": {
          "base_uri": "https://localhost:8080/",
          "height": 35
        },
        "id": "4Yl7svxOQL4M",
        "outputId": "181af06d-d718-4887-e82f-0d68f8e8199d"
      },
      "source": [
        "y[20000]"
      ],
      "execution_count": 18,
      "outputs": [
        {
          "output_type": "execute_result",
          "data": {
            "application/vnd.google.colaboratory.intrinsic+json": {
              "type": "string"
            },
            "text/plain": [
              "'up'"
            ]
          },
          "metadata": {
            "tags": []
          },
          "execution_count": 18
        }
      ]
    },
    {
      "cell_type": "code",
      "metadata": {
        "colab": {
          "base_uri": "https://localhost:8080/",
          "height": 35
        },
        "id": "KDVAmHRrQNOU",
        "outputId": "dbcdfb49-7d90-47bb-a356-95d9df711add"
      },
      "source": [
        "all_paths[20000]"
      ],
      "execution_count": 19,
      "outputs": [
        {
          "output_type": "execute_result",
          "data": {
            "application/vnd.google.colaboratory.intrinsic+json": {
              "type": "string"
            },
            "text/plain": [
              "'/content/drive/MyDrive/train/audio/up/c661be6e_nohash_0.wav'"
            ]
          },
          "metadata": {
            "tags": []
          },
          "execution_count": 19
        }
      ]
    },
    {
      "cell_type": "code",
      "metadata": {
        "id": "2NgMcfA_QOtk"
      },
      "source": [
        "#Getting all of the files\n",
        "files_ds = tf.data.Dataset.from_tensor_slices(all_paths)"
      ],
      "execution_count": 20,
      "outputs": []
    },
    {
      "cell_type": "code",
      "metadata": {
        "id": "ej1DK2ZlS-UH"
      },
      "source": [
        "#Defining function to get waveform for each clip\n",
        "def get_waveform(path):\n",
        "  audio_binary = tf.io.read_file(path)\n",
        "  audio, sample_rate = tf.audio.decode_wav(audio_binary)\n",
        "  waveform = tf.squeeze(audio, axis=-1)\n",
        "  return waveform"
      ],
      "execution_count": 21,
      "outputs": []
    },
    {
      "cell_type": "code",
      "metadata": {
        "id": "6n_eBiwgTEe-"
      },
      "source": [
        "#Getting the waveform for each file\n",
        "waveform_ds = files_ds.map(get_waveform)"
      ],
      "execution_count": 22,
      "outputs": []
    },
    {
      "cell_type": "code",
      "metadata": {
        "id": "W2vWptnMTHZM"
      },
      "source": [
        "#Defining a function that makes all audio clips same length and gets spectrogram\n",
        "def get_spectrogram(waveform):\n",
        "  zero_padding = tf.zeros([16000] - tf.shape(waveform), dtype=tf.float32)\n",
        "  equal_length = tf.concat([waveform, zero_padding], 0)\n",
        "  spectrogram = tf.signal.stft(equal_length, frame_length=255, frame_step=128)\n",
        "  spectrogram = tf.abs(spectrogram)\n",
        "  return spectrogram"
      ],
      "execution_count": 23,
      "outputs": []
    },
    {
      "cell_type": "code",
      "metadata": {
        "id": "XepNUfNMTMFW"
      },
      "source": [
        "#Getting the spectrogram for each file\n",
        "spectrogram_ds = waveform_ds.map(get_spectrogram)"
      ],
      "execution_count": 24,
      "outputs": []
    },
    {
      "cell_type": "code",
      "metadata": {
        "id": "Fc3gRCKNTOdN"
      },
      "source": [
        "X = []\n",
        "for spec in spectrogram_ds:\n",
        "  X.append(spec.numpy())"
      ],
      "execution_count": 25,
      "outputs": []
    },
    {
      "cell_type": "code",
      "metadata": {
        "id": "fpzdQzDqTV-m"
      },
      "source": [
        "X = np.array(X)\n",
        "y = np.array(y)"
      ],
      "execution_count": 26,
      "outputs": []
    },
    {
      "cell_type": "code",
      "metadata": {
        "colab": {
          "base_uri": "https://localhost:8080/"
        },
        "id": "2rk8l_xmucU4",
        "outputId": "1704aa59-441b-414d-cb91-757fbde60f25"
      },
      "source": [
        "X.shape"
      ],
      "execution_count": 27,
      "outputs": [
        {
          "output_type": "execute_result",
          "data": {
            "text/plain": [
              "(27174, 124, 129)"
            ]
          },
          "metadata": {
            "tags": []
          },
          "execution_count": 27
        }
      ]
    },
    {
      "cell_type": "code",
      "metadata": {
        "id": "F9eVe11mM7O4"
      },
      "source": [
        "y_d = pd.get_dummies(y)"
      ],
      "execution_count": 28,
      "outputs": []
    },
    {
      "cell_type": "code",
      "metadata": {
        "id": "D-6uuuohNqF9"
      },
      "source": [
        "X_train, X_test, y_train, y_test = train_test_split(X, y_d)"
      ],
      "execution_count": 29,
      "outputs": []
    },
    {
      "cell_type": "code",
      "metadata": {
        "id": "QbYHSeyLNsaN"
      },
      "source": [
        "model = Sequential()"
      ],
      "execution_count": 30,
      "outputs": []
    },
    {
      "cell_type": "code",
      "metadata": {
        "colab": {
          "base_uri": "https://localhost:8080/"
        },
        "id": "cXlvrCH4Nu1u",
        "outputId": "4734f10d-3064-4f85-821c-3907e937b611"
      },
      "source": [
        "for spectrogram in spectrogram_ds.take(1):\n",
        "  input_shape = spectrogram.shape\n",
        "print('Input shape:', input_shape)"
      ],
      "execution_count": 31,
      "outputs": [
        {
          "output_type": "stream",
          "text": [
            "Input shape: (124, 129)\n"
          ],
          "name": "stdout"
        }
      ]
    },
    {
      "cell_type": "code",
      "metadata": {
        "id": "L4ZdLgmTN-XA"
      },
      "source": [
        "num_labels = 11"
      ],
      "execution_count": 32,
      "outputs": []
    },
    {
      "cell_type": "code",
      "metadata": {
        "colab": {
          "base_uri": "https://localhost:8080/"
        },
        "id": "ZMAjL2LnOA6A",
        "outputId": "b410870b-fa74-453e-cbdd-7dd21b02a9ff"
      },
      "source": [
        "model.add(Input(shape=input_shape))\n",
        "model.add(Flatten())\n",
        "model.add(Dense(12, activation='relu'))\n",
        "model.add(Dense(8, activation='relu'))\n",
        "model.add(Dense(num_labels))"
      ],
      "execution_count": 33,
      "outputs": [
        {
          "output_type": "stream",
          "text": [
            "WARNING:tensorflow:Please add `keras.layers.InputLayer` instead of `keras.Input` to Sequential model. `keras.Input` is intended to be used by Functional model.\n"
          ],
          "name": "stdout"
        }
      ]
    },
    {
      "cell_type": "code",
      "metadata": {
        "id": "9egMYV5-ODSO"
      },
      "source": [
        "model.compile(optimizer='rmsprop',\n",
        "              loss='binary_crossentropy',\n",
        "              metrics=['accuracy'])"
      ],
      "execution_count": 34,
      "outputs": []
    },
    {
      "cell_type": "code",
      "metadata": {
        "colab": {
          "base_uri": "https://localhost:8080/"
        },
        "id": "T912WeMGOFlI",
        "outputId": "a6df5236-e1d8-4fde-ad7c-01e73c7b06b6"
      },
      "source": [
        "model.fit(X_train, y_train, epochs=50, batch_size=64)"
      ],
      "execution_count": 35,
      "outputs": [
        {
          "output_type": "stream",
          "text": [
            "Epoch 1/50\n",
            "319/319 [==============================] - 3s 4ms/step - loss: 0.6738 - accuracy: 0.1424\n",
            "Epoch 2/50\n",
            "319/319 [==============================] - 1s 4ms/step - loss: 0.5895 - accuracy: 0.1954\n",
            "Epoch 3/50\n",
            "319/319 [==============================] - 1s 5ms/step - loss: 0.5265 - accuracy: 0.2102\n",
            "Epoch 4/50\n",
            "319/319 [==============================] - 1s 4ms/step - loss: 0.4983 - accuracy: 0.2184\n",
            "Epoch 5/50\n",
            "319/319 [==============================] - 1s 4ms/step - loss: 0.4954 - accuracy: 0.2237\n",
            "Epoch 6/50\n",
            "319/319 [==============================] - 1s 4ms/step - loss: 0.4988 - accuracy: 0.2328\n",
            "Epoch 7/50\n",
            "319/319 [==============================] - 1s 4ms/step - loss: 0.4946 - accuracy: 0.2386\n",
            "Epoch 8/50\n",
            "319/319 [==============================] - 1s 4ms/step - loss: 0.4977 - accuracy: 0.2400\n",
            "Epoch 9/50\n",
            "319/319 [==============================] - 1s 4ms/step - loss: 0.4919 - accuracy: 0.2417\n",
            "Epoch 10/50\n",
            "319/319 [==============================] - 1s 4ms/step - loss: 0.5020 - accuracy: 0.2484\n",
            "Epoch 11/50\n",
            "319/319 [==============================] - 1s 4ms/step - loss: 0.4940 - accuracy: 0.2506\n",
            "Epoch 12/50\n",
            "319/319 [==============================] - 1s 4ms/step - loss: 0.4930 - accuracy: 0.2532\n",
            "Epoch 13/50\n",
            "319/319 [==============================] - 1s 4ms/step - loss: 0.4981 - accuracy: 0.2510\n",
            "Epoch 14/50\n",
            "319/319 [==============================] - 1s 4ms/step - loss: 0.4959 - accuracy: 0.2545\n",
            "Epoch 15/50\n",
            "319/319 [==============================] - 1s 4ms/step - loss: 0.5115 - accuracy: 0.2616\n",
            "Epoch 16/50\n",
            "319/319 [==============================] - 1s 4ms/step - loss: 0.4979 - accuracy: 0.2669\n",
            "Epoch 17/50\n",
            "319/319 [==============================] - 1s 4ms/step - loss: 0.4967 - accuracy: 0.2716\n",
            "Epoch 18/50\n",
            "319/319 [==============================] - 1s 4ms/step - loss: 0.4935 - accuracy: 0.2692\n",
            "Epoch 19/50\n",
            "319/319 [==============================] - 1s 4ms/step - loss: 0.5015 - accuracy: 0.2725\n",
            "Epoch 20/50\n",
            "319/319 [==============================] - 1s 4ms/step - loss: 0.4895 - accuracy: 0.2733\n",
            "Epoch 21/50\n",
            "319/319 [==============================] - 1s 4ms/step - loss: 0.4876 - accuracy: 0.2737\n",
            "Epoch 22/50\n",
            "319/319 [==============================] - 1s 4ms/step - loss: 0.4955 - accuracy: 0.2745\n",
            "Epoch 23/50\n",
            "319/319 [==============================] - 1s 5ms/step - loss: 0.4921 - accuracy: 0.2788\n",
            "Epoch 24/50\n",
            "319/319 [==============================] - 1s 4ms/step - loss: 0.4981 - accuracy: 0.2790\n",
            "Epoch 25/50\n",
            "319/319 [==============================] - 1s 4ms/step - loss: 0.4897 - accuracy: 0.2815\n",
            "Epoch 26/50\n",
            "319/319 [==============================] - 1s 4ms/step - loss: 0.4895 - accuracy: 0.2816\n",
            "Epoch 27/50\n",
            "319/319 [==============================] - 1s 4ms/step - loss: 0.4923 - accuracy: 0.2817\n",
            "Epoch 28/50\n",
            "319/319 [==============================] - 1s 4ms/step - loss: 0.4910 - accuracy: 0.2817\n",
            "Epoch 29/50\n",
            "319/319 [==============================] - 1s 4ms/step - loss: 0.4872 - accuracy: 0.2833\n",
            "Epoch 30/50\n",
            "319/319 [==============================] - 1s 4ms/step - loss: 0.4893 - accuracy: 0.2818\n",
            "Epoch 31/50\n",
            "319/319 [==============================] - 1s 4ms/step - loss: 0.4860 - accuracy: 0.2825\n",
            "Epoch 32/50\n",
            "319/319 [==============================] - 1s 4ms/step - loss: 0.4897 - accuracy: 0.2841\n",
            "Epoch 33/50\n",
            "319/319 [==============================] - 1s 4ms/step - loss: 0.4921 - accuracy: 0.2841\n",
            "Epoch 34/50\n",
            "319/319 [==============================] - 1s 4ms/step - loss: 0.4845 - accuracy: 0.2835\n",
            "Epoch 35/50\n",
            "319/319 [==============================] - 1s 4ms/step - loss: 0.4916 - accuracy: 0.2865\n",
            "Epoch 36/50\n",
            "319/319 [==============================] - 1s 4ms/step - loss: 0.4866 - accuracy: 0.2871\n",
            "Epoch 37/50\n",
            "319/319 [==============================] - 1s 4ms/step - loss: 0.4886 - accuracy: 0.2867\n",
            "Epoch 38/50\n",
            "319/319 [==============================] - 1s 4ms/step - loss: 0.4895 - accuracy: 0.2880\n",
            "Epoch 39/50\n",
            "319/319 [==============================] - 1s 4ms/step - loss: 0.4857 - accuracy: 0.2873\n",
            "Epoch 40/50\n",
            "319/319 [==============================] - 1s 5ms/step - loss: 0.4899 - accuracy: 0.2888\n",
            "Epoch 41/50\n",
            "319/319 [==============================] - 1s 4ms/step - loss: 0.4875 - accuracy: 0.2888\n",
            "Epoch 42/50\n",
            "319/319 [==============================] - 2s 5ms/step - loss: 0.4871 - accuracy: 0.2904\n",
            "Epoch 43/50\n",
            "319/319 [==============================] - 1s 4ms/step - loss: 0.4874 - accuracy: 0.2886\n",
            "Epoch 44/50\n",
            "319/319 [==============================] - 1s 4ms/step - loss: 0.4909 - accuracy: 0.2901\n",
            "Epoch 45/50\n",
            "319/319 [==============================] - 1s 4ms/step - loss: 0.4900 - accuracy: 0.2905\n",
            "Epoch 46/50\n",
            "319/319 [==============================] - 1s 4ms/step - loss: 0.4903 - accuracy: 0.2889\n",
            "Epoch 47/50\n",
            "319/319 [==============================] - 1s 4ms/step - loss: 0.4851 - accuracy: 0.2907\n",
            "Epoch 48/50\n",
            "319/319 [==============================] - 1s 4ms/step - loss: 0.4914 - accuracy: 0.2898\n",
            "Epoch 49/50\n",
            "319/319 [==============================] - 1s 4ms/step - loss: 0.4901 - accuracy: 0.2918\n",
            "Epoch 50/50\n",
            "319/319 [==============================] - 1s 4ms/step - loss: 0.4876 - accuracy: 0.2913\n"
          ],
          "name": "stdout"
        },
        {
          "output_type": "execute_result",
          "data": {
            "text/plain": [
              "<tensorflow.python.keras.callbacks.History at 0x7f9bd277ee90>"
            ]
          },
          "metadata": {
            "tags": []
          },
          "execution_count": 35
        }
      ]
    },
    {
      "cell_type": "code",
      "metadata": {
        "id": "L1ZipIIeOHvg"
      },
      "source": [
        "y_pred = np.argmax(model.predict(X_test), axis = 1)"
      ],
      "execution_count": 36,
      "outputs": []
    },
    {
      "cell_type": "code",
      "metadata": {
        "id": "WfpJY1fkOks0"
      },
      "source": [
        "y_test_arr = y_test.idxmax(axis = 1)"
      ],
      "execution_count": 37,
      "outputs": []
    },
    {
      "cell_type": "code",
      "metadata": {
        "colab": {
          "base_uri": "https://localhost:8080/"
        },
        "id": "tIs4GlNyO0V8",
        "outputId": "7e8d95ae-ed1d-46ec-85b4-02260e3d8bfb"
      },
      "source": [
        "y_test.columns"
      ],
      "execution_count": 38,
      "outputs": [
        {
          "output_type": "execute_result",
          "data": {
            "text/plain": [
              "Index(['down', 'go', 'left', 'no', 'off', 'on', 'right', 'stop', 'unknown',\n",
              "       'up', 'yes'],\n",
              "      dtype='object')"
            ]
          },
          "metadata": {
            "tags": []
          },
          "execution_count": 38
        }
      ]
    },
    {
      "cell_type": "code",
      "metadata": {
        "id": "8evsi-YoO3H9"
      },
      "source": [
        "tar_dict = {0:'down', 1:'go', 2:'left', 3:'no', 4:'off',\n",
        "            5:'on', 6:'right', 7:'stop', 8:'unknown', 9:'up', 10: 'yes'}"
      ],
      "execution_count": 39,
      "outputs": []
    },
    {
      "cell_type": "code",
      "metadata": {
        "id": "p-Mk9CZDPA6_"
      },
      "source": [
        "y_hat = []\n",
        "for value in y_pred:\n",
        "  y_hat.append(tar_dict[value])"
      ],
      "execution_count": 40,
      "outputs": []
    },
    {
      "cell_type": "code",
      "metadata": {
        "id": "yR5JsUNqPCxn"
      },
      "source": [
        "y_hat_arr = np.array(y_hat)"
      ],
      "execution_count": 41,
      "outputs": []
    },
    {
      "cell_type": "code",
      "metadata": {
        "colab": {
          "base_uri": "https://localhost:8080/"
        },
        "id": "upMaD7FVPE1a",
        "outputId": "6ac8eed6-40bf-424b-8005-e79139625957"
      },
      "source": [
        "accuracy_score(y_test_arr, y_hat_arr)"
      ],
      "execution_count": 42,
      "outputs": [
        {
          "output_type": "execute_result",
          "data": {
            "text/plain": [
              "0.2749484839564321"
            ]
          },
          "metadata": {
            "tags": []
          },
          "execution_count": 42
        }
      ]
    },
    {
      "cell_type": "code",
      "metadata": {
        "id": "DE3G5L8VPGjw",
        "colab": {
          "base_uri": "https://localhost:8080/"
        },
        "outputId": "fda75be9-7bc5-4e3c-b8f9-05ddf5495959"
      },
      "source": [
        "model.save('/content/drive/MyDrive/model2')"
      ],
      "execution_count": 43,
      "outputs": [
        {
          "output_type": "stream",
          "text": [
            "INFO:tensorflow:Assets written to: /content/drive/MyDrive/model2/assets\n"
          ],
          "name": "stdout"
        }
      ]
    },
    {
      "cell_type": "code",
      "metadata": {
        "colab": {
          "base_uri": "https://localhost:8080/"
        },
        "id": "_iL4fWzQhQPo",
        "outputId": "eda6981c-2f26-4a7a-854f-461db5c593c8"
      },
      "source": [
        "model.predict(X_test)[1]"
      ],
      "execution_count": 51,
      "outputs": [
        {
          "output_type": "execute_result",
          "data": {
            "text/plain": [
              "array([ -3.339738  , -15.19149   ,  -9.961892  , -13.914973  ,\n",
              "         0.55936277,  -4.6677656 , -13.601881  , -10.032476  ,\n",
              "       -12.749056  ,  -0.19837065,  -3.2556572 ], dtype=float32)"
            ]
          },
          "metadata": {
            "tags": []
          },
          "execution_count": 51
        }
      ]
    },
    {
      "cell_type": "code",
      "metadata": {
        "id": "iFqtTARs4KWY"
      },
      "source": [
        "array([-1.2117121 , -6.394063  , -0.43727398, -5.1449018 , -2.7971497 ,\n",
        "       -0.11864133, -1.4343631 , -5.095385  , -6.809304  , -3.8131297 ,\n",
        "        1.3779329 ], dtype=float32)"
      ],
      "execution_count": null,
      "outputs": []
    },
    {
      "cell_type": "code",
      "metadata": {
        "colab": {
          "base_uri": "https://localhost:8080/",
          "height": 35
        },
        "id": "GecxxONT4dqz",
        "outputId": "e14c843c-0f39-41d3-b58e-6c73c571aee1"
      },
      "source": [
        "y_hat[1]"
      ],
      "execution_count": 54,
      "outputs": [
        {
          "output_type": "execute_result",
          "data": {
            "application/vnd.google.colaboratory.intrinsic+json": {
              "type": "string"
            },
            "text/plain": [
              "'off'"
            ]
          },
          "metadata": {
            "tags": []
          },
          "execution_count": 54
        }
      ]
    },
    {
      "cell_type": "code",
      "metadata": {
        "id": "-lUzjUNj4eO2"
      },
      "source": [
        ""
      ],
      "execution_count": null,
      "outputs": []
    }
  ]
}