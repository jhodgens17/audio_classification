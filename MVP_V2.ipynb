{
  "nbformat": 4,
  "nbformat_minor": 0,
  "metadata": {
    "colab": {
      "name": "MVP V2.ipynb",
      "provenance": [],
      "collapsed_sections": [],
      "machine_shape": "hm",
      "mount_file_id": "17uvqpZvHiFA1O3RHrt7abW0yWybWlfU9",
      "authorship_tag": "ABX9TyMEI3pTFFMi86pfNlZ4qKcD",
      "include_colab_link": true
    },
    "kernelspec": {
      "name": "python3",
      "display_name": "Python 3"
    },
    "language_info": {
      "name": "python"
    },
    "accelerator": "GPU"
  },
  "cells": [
    {
      "cell_type": "markdown",
      "metadata": {
        "id": "view-in-github",
        "colab_type": "text"
      },
      "source": [
        "<a href=\"https://colab.research.google.com/github/jhodgens17/audio_classification/blob/main/MVP_V2.ipynb\" target=\"_parent\"><img src=\"https://colab.research.google.com/assets/colab-badge.svg\" alt=\"Open In Colab\"/></a>"
      ]
    },
    {
      "cell_type": "code",
      "metadata": {
        "id": "mdZY05-VKvlz"
      },
      "source": [
        "#Import packages\n",
        "import os.path\n",
        "import tensorflow as tf\n",
        "import matplotlib.pyplot as plt\n",
        "import numpy as np\n",
        "import pandas as pd\n",
        "import keras\n",
        "from tensorflow.keras.models import Sequential\n",
        "from tensorflow.keras.layers import Dense\n",
        "from tensorflow.keras.layers import Flatten\n",
        "from tensorflow.keras.layers import Input\n",
        "from tensorflow.keras.layers.experimental import preprocessing\n",
        "from sklearn.model_selection import train_test_split\n",
        "from sklearn.metrics import accuracy_score"
      ],
      "execution_count": null,
      "outputs": []
    },
    {
      "cell_type": "code",
      "metadata": {
        "id": "UrvHk8lhK0Sa"
      },
      "source": [
        "target_words = ['down', 'go', 'left', 'no', 'off',\n",
        "           'on', 'right', 'stop', 'up', 'yes']"
      ],
      "execution_count": null,
      "outputs": []
    },
    {
      "cell_type": "code",
      "metadata": {
        "id": "Q7OUWOk9K44w"
      },
      "source": [
        "unknown = ['bed', 'bird', 'cat', 'dog',  \n",
        "           'eight', 'five', 'four', 'happy', \n",
        "           'house', 'marvin', 'nine', 'one', 'seven',\n",
        "           'sheila', 'six', 'three', 'tree', 'two',\n",
        "           'wow', 'zero']"
      ],
      "execution_count": null,
      "outputs": []
    },
    {
      "cell_type": "code",
      "metadata": {
        "id": "rBRgZowLK6px"
      },
      "source": [
        "all_words = target_words + unknown"
      ],
      "execution_count": null,
      "outputs": []
    },
    {
      "cell_type": "code",
      "metadata": {
        "colab": {
          "base_uri": "https://localhost:8080/"
        },
        "id": "cmvmr8g9K8iI",
        "outputId": "213ac79d-4384-40dc-9ded-ef28887ab400"
      },
      "source": [
        "len(all_words)"
      ],
      "execution_count": null,
      "outputs": [
        {
          "output_type": "execute_result",
          "data": {
            "text/plain": [
              "30"
            ]
          },
          "metadata": {
            "tags": []
          },
          "execution_count": 6
        }
      ]
    },
    {
      "cell_type": "code",
      "metadata": {
        "id": "Eu-quhsBK-Vn"
      },
      "source": [
        "all_files = {}\n",
        "for word in all_words:\n",
        "  path = '/content/drive/MyDrive/train/audio/'+word\n",
        "  file_list = os.listdir(path)\n",
        "  all_files[word] = file_list"
      ],
      "execution_count": null,
      "outputs": []
    },
    {
      "cell_type": "code",
      "metadata": {
        "colab": {
          "base_uri": "https://localhost:8080/"
        },
        "id": "gfzrMNXuLA-x",
        "outputId": "bc7695e3-4eaa-4b63-9e26-d4673d4a4ec1"
      },
      "source": [
        "len(all_files)"
      ],
      "execution_count": null,
      "outputs": [
        {
          "output_type": "execute_result",
          "data": {
            "text/plain": [
              "30"
            ]
          },
          "metadata": {
            "tags": []
          },
          "execution_count": 8
        }
      ]
    },
    {
      "cell_type": "code",
      "metadata": {
        "colab": {
          "base_uri": "https://localhost:8080/"
        },
        "id": "2xDBBcHLLkQ7",
        "outputId": "1ae5ccda-4708-40d0-d01f-a1927244afd0"
      },
      "source": [
        "for word in all_files:\n",
        "  print(len(all_files[word]))"
      ],
      "execution_count": null,
      "outputs": [
        {
          "output_type": "stream",
          "text": [
            "2359\n",
            "2372\n",
            "2353\n",
            "2375\n",
            "2357\n",
            "2367\n",
            "2367\n",
            "2380\n",
            "2375\n",
            "2377\n",
            "1713\n",
            "1731\n",
            "1733\n",
            "1746\n",
            "2352\n",
            "2357\n",
            "2372\n",
            "1742\n",
            "1750\n",
            "1746\n",
            "2364\n",
            "2370\n",
            "2377\n",
            "1734\n",
            "2369\n",
            "2356\n",
            "1733\n",
            "2373\n",
            "1745\n",
            "2376\n"
          ],
          "name": "stdout"
        }
      ]
    },
    {
      "cell_type": "code",
      "metadata": {
        "id": "Zsg3KEsWLma1"
      },
      "source": [
        "total = 0\n",
        "for word in all_files:\n",
        "  total = total + len(all_files[word])"
      ],
      "execution_count": null,
      "outputs": []
    },
    {
      "cell_type": "code",
      "metadata": {
        "colab": {
          "base_uri": "https://localhost:8080/"
        },
        "id": "NagOD4lqLpmO",
        "outputId": "6ebeac53-101d-40b1-ff15-4e10eaad3374"
      },
      "source": [
        "total"
      ],
      "execution_count": null,
      "outputs": [
        {
          "output_type": "execute_result",
          "data": {
            "text/plain": [
              "64721"
            ]
          },
          "metadata": {
            "tags": []
          },
          "execution_count": 11
        }
      ]
    },
    {
      "cell_type": "code",
      "metadata": {
        "id": "TWlLD5oYLrgu"
      },
      "source": [
        "all_paths = {}\n",
        "for word in all_files:\n",
        "  paths = []\n",
        "  for file in all_files[word]:\n",
        "    path = '/content/drive/MyDrive/train/audio/' + word + '/' + file\n",
        "    paths.append(path)\n",
        "  all_paths[word] = paths"
      ],
      "execution_count": null,
      "outputs": []
    },
    {
      "cell_type": "code",
      "metadata": {
        "colab": {
          "base_uri": "https://localhost:8080/"
        },
        "id": "OqIgpIxyLvLf",
        "outputId": "d93d88b7-3bfd-41d5-caf3-6dd3f0dc1a1c"
      },
      "source": [
        "len(all_paths)"
      ],
      "execution_count": null,
      "outputs": [
        {
          "output_type": "execute_result",
          "data": {
            "text/plain": [
              "30"
            ]
          },
          "metadata": {
            "tags": []
          },
          "execution_count": 14
        }
      ]
    },
    {
      "cell_type": "code",
      "metadata": {
        "id": "H5ali8zSLxcu"
      },
      "source": [
        "total_paths = 0\n",
        "for word in all_paths:\n",
        "  total_paths = total_paths + len(all_paths[word])"
      ],
      "execution_count": null,
      "outputs": []
    },
    {
      "cell_type": "code",
      "metadata": {
        "colab": {
          "base_uri": "https://localhost:8080/"
        },
        "id": "ZVLyNcmuLzlf",
        "outputId": "d0f728bf-2459-497d-a8e8-73c9d82d82a2"
      },
      "source": [
        "total_paths"
      ],
      "execution_count": null,
      "outputs": [
        {
          "output_type": "execute_result",
          "data": {
            "text/plain": [
              "64721"
            ]
          },
          "metadata": {
            "tags": []
          },
          "execution_count": 16
        }
      ]
    },
    {
      "cell_type": "code",
      "metadata": {
        "id": "DjhMml-gL0fH"
      },
      "source": [
        "y = []\n",
        "all_paths = []\n",
        "for target in all_files:\n",
        "  if target in target_words:\n",
        "    for file in all_files[target]:\n",
        "      path = '/content/drive/MyDrive/train/audio/' + target + '/' + file\n",
        "      all_paths.append(path)\n",
        "      y.append(target)\n",
        "  else:\n",
        "    for file in all_files[target]:\n",
        "      path = '/content/drive/MyDrive/train/audio/' + target + '/' + file\n",
        "      all_paths.append(path)\n",
        "      y.append('unknown')"
      ],
      "execution_count": null,
      "outputs": []
    },
    {
      "cell_type": "code",
      "metadata": {
        "colab": {
          "base_uri": "https://localhost:8080/"
        },
        "id": "ivFbNGYSL4ao",
        "outputId": "b36b9372-ed7a-4f31-babd-6c64b9c220bf"
      },
      "source": [
        "len(y)"
      ],
      "execution_count": null,
      "outputs": [
        {
          "output_type": "execute_result",
          "data": {
            "text/plain": [
              "64721"
            ]
          },
          "metadata": {
            "tags": []
          },
          "execution_count": 18
        }
      ]
    },
    {
      "cell_type": "code",
      "metadata": {
        "colab": {
          "base_uri": "https://localhost:8080/"
        },
        "id": "eTI3Lu1QL6NQ",
        "outputId": "511e095a-8ca4-420e-a79f-3a354c7fceb0"
      },
      "source": [
        "len(all_paths)"
      ],
      "execution_count": null,
      "outputs": [
        {
          "output_type": "execute_result",
          "data": {
            "text/plain": [
              "64721"
            ]
          },
          "metadata": {
            "tags": []
          },
          "execution_count": 19
        }
      ]
    },
    {
      "cell_type": "code",
      "metadata": {
        "colab": {
          "base_uri": "https://localhost:8080/",
          "height": 35
        },
        "id": "UVOx2sI0L7cf",
        "outputId": "6f38aaa2-ed0b-41eb-eade-23018db9fe25"
      },
      "source": [
        "y[50000]"
      ],
      "execution_count": null,
      "outputs": [
        {
          "output_type": "execute_result",
          "data": {
            "application/vnd.google.colaboratory.intrinsic+json": {
              "type": "string"
            },
            "text/plain": [
              "'unknown'"
            ]
          },
          "metadata": {
            "tags": []
          },
          "execution_count": 20
        }
      ]
    },
    {
      "cell_type": "code",
      "metadata": {
        "colab": {
          "base_uri": "https://localhost:8080/",
          "height": 35
        },
        "id": "d3kmI7ctL96o",
        "outputId": "771c55ba-ce5f-4f1f-cc3b-08f41ff68429"
      },
      "source": [
        "all_paths[50000]"
      ],
      "execution_count": null,
      "outputs": [
        {
          "output_type": "execute_result",
          "data": {
            "application/vnd.google.colaboratory.intrinsic+json": {
              "type": "string"
            },
            "text/plain": [
              "'/content/drive/MyDrive/train/audio/seven/264f471d_nohash_3.wav'"
            ]
          },
          "metadata": {
            "tags": []
          },
          "execution_count": 21
        }
      ]
    },
    {
      "cell_type": "code",
      "metadata": {
        "id": "Fcz25fujMBNI"
      },
      "source": [
        "#Getting all of the files\n",
        "files_ds = tf.data.Dataset.from_tensor_slices(all_paths)"
      ],
      "execution_count": null,
      "outputs": []
    },
    {
      "cell_type": "code",
      "metadata": {
        "id": "Y4TK9M9lMEHZ"
      },
      "source": [
        "#Defining function to get waveform for each clip\n",
        "def get_waveform(path):\n",
        "  audio_binary = tf.io.read_file(path)\n",
        "  audio, sample_rate = tf.audio.decode_wav(audio_binary)\n",
        "  waveform = tf.squeeze(audio, axis=-1)\n",
        "  return waveform"
      ],
      "execution_count": null,
      "outputs": []
    },
    {
      "cell_type": "code",
      "metadata": {
        "id": "ziOHk4lPMHWS"
      },
      "source": [
        "#Getting the waveform for each file\n",
        "waveform_ds = files_ds.map(get_waveform)"
      ],
      "execution_count": null,
      "outputs": []
    },
    {
      "cell_type": "code",
      "metadata": {
        "id": "mG74bynfMJUZ"
      },
      "source": [
        "#Defining a function that makes all audio clips same length and gets spectrogram\n",
        "def get_spectrogram(waveform):\n",
        "  zero_padding = tf.zeros([16000] - tf.shape(waveform), dtype=tf.float32)\n",
        "  equal_length = tf.concat([waveform, zero_padding], 0)\n",
        "  spectrogram = tf.signal.stft(equal_length, frame_length=255, frame_step=128)\n",
        "  spectrogram = tf.abs(spectrogram)\n",
        "  return spectrogram"
      ],
      "execution_count": null,
      "outputs": []
    },
    {
      "cell_type": "code",
      "metadata": {
        "id": "FeHoUp-rMLJK"
      },
      "source": [
        "#Getting the spectrogram for each file\n",
        "spectrogram_ds = waveform_ds.map(get_spectrogram)"
      ],
      "execution_count": null,
      "outputs": []
    },
    {
      "cell_type": "code",
      "metadata": {
        "colab": {
          "base_uri": "https://localhost:8080/"
        },
        "id": "xiljIv5xMX9M",
        "outputId": "2853faae-a20a-41c2-d024-d136ba2d2f80"
      },
      "source": [
        "spectrogram_ds"
      ],
      "execution_count": null,
      "outputs": [
        {
          "output_type": "execute_result",
          "data": {
            "text/plain": [
              "<MapDataset shapes: (None, 129), types: tf.float32>"
            ]
          },
          "metadata": {
            "tags": []
          },
          "execution_count": 27
        }
      ]
    },
    {
      "cell_type": "code",
      "metadata": {
        "id": "2HkZ0SuDMd1d"
      },
      "source": [
        "X = []\n",
        "for spec in spectrogram_ds:\n",
        "  X.append(spec.numpy())"
      ],
      "execution_count": null,
      "outputs": []
    },
    {
      "cell_type": "code",
      "metadata": {
        "id": "sfLNEWHXQ4Ue"
      },
      "source": [
        "X = np.array(X)\n",
        "y = np.array(y)"
      ],
      "execution_count": null,
      "outputs": []
    },
    {
      "cell_type": "code",
      "metadata": {
        "colab": {
          "base_uri": "https://localhost:8080/"
        },
        "id": "A5enuGvBkjmJ",
        "outputId": "5b5b302b-0f2b-4203-f51e-970c1e4f6c49"
      },
      "source": [
        "X.shape"
      ],
      "execution_count": null,
      "outputs": [
        {
          "output_type": "execute_result",
          "data": {
            "text/plain": [
              "(64721, 124, 129)"
            ]
          },
          "metadata": {
            "tags": []
          },
          "execution_count": 30
        }
      ]
    },
    {
      "cell_type": "code",
      "metadata": {
        "colab": {
          "base_uri": "https://localhost:8080/"
        },
        "id": "iKTAHhZjkoww",
        "outputId": "73bdc94d-79da-4ef0-c442-044a148ad13e"
      },
      "source": [
        "y.shape"
      ],
      "execution_count": null,
      "outputs": [
        {
          "output_type": "execute_result",
          "data": {
            "text/plain": [
              "(64721,)"
            ]
          },
          "metadata": {
            "tags": []
          },
          "execution_count": 31
        }
      ]
    },
    {
      "cell_type": "code",
      "metadata": {
        "id": "bINse-DOkpmR"
      },
      "source": [
        "y_d = pd.get_dummies(y)"
      ],
      "execution_count": null,
      "outputs": []
    },
    {
      "cell_type": "code",
      "metadata": {
        "id": "J--5T5yDkrn_"
      },
      "source": [
        "X_train, X_test, y_train, y_test = train_test_split(X, y_d)"
      ],
      "execution_count": null,
      "outputs": []
    },
    {
      "cell_type": "code",
      "metadata": {
        "id": "JBuWsrcZkx7h"
      },
      "source": [
        "model = Sequential()"
      ],
      "execution_count": null,
      "outputs": []
    },
    {
      "cell_type": "code",
      "metadata": {
        "colab": {
          "base_uri": "https://localhost:8080/"
        },
        "id": "TwyUuitVkzpA",
        "outputId": "4434d6b9-af7f-4548-d6d8-bdd15239e51e"
      },
      "source": [
        "for spectrogram in spectrogram_ds.take(1):\n",
        "  input_shape = spectrogram.shape\n",
        "print('Input shape:', input_shape)"
      ],
      "execution_count": null,
      "outputs": [
        {
          "output_type": "stream",
          "text": [
            "Input shape: (124, 129)\n"
          ],
          "name": "stdout"
        }
      ]
    },
    {
      "cell_type": "code",
      "metadata": {
        "id": "rf85I9vpk09Q"
      },
      "source": [
        "num_labels = 11"
      ],
      "execution_count": null,
      "outputs": []
    },
    {
      "cell_type": "code",
      "metadata": {
        "colab": {
          "base_uri": "https://localhost:8080/"
        },
        "id": "O0CIAolFk2Wn",
        "outputId": "f67bfa21-24a9-444c-8f9f-dc2f6f7e5467"
      },
      "source": [
        "model.add(Input(shape=input_shape))\n",
        "model.add(Flatten())\n",
        "model.add(Dense(12, activation='relu'))\n",
        "model.add(Dense(8, activation='relu'))\n",
        "model.add(Dense(num_labels))"
      ],
      "execution_count": null,
      "outputs": [
        {
          "output_type": "stream",
          "text": [
            "WARNING:tensorflow:Please add `keras.layers.InputLayer` instead of `keras.Input` to Sequential model. `keras.Input` is intended to be used by Functional model.\n"
          ],
          "name": "stdout"
        }
      ]
    },
    {
      "cell_type": "code",
      "metadata": {
        "id": "4TPuwp0Qk36M"
      },
      "source": [
        "model.compile(optimizer='rmsprop',\n",
        "              loss='binary_crossentropy',\n",
        "              metrics=['accuracy'])"
      ],
      "execution_count": null,
      "outputs": []
    },
    {
      "cell_type": "code",
      "metadata": {
        "colab": {
          "base_uri": "https://localhost:8080/"
        },
        "id": "_ZcnvAq3k5pH",
        "outputId": "c9aeda62-5607-4b4e-f19e-c4d4bfe4b89f"
      },
      "source": [
        "model.fit(X_train, y_train, epochs=50, batch_size=64)"
      ],
      "execution_count": null,
      "outputs": [
        {
          "output_type": "stream",
          "text": [
            "Epoch 1/50\n",
            "759/759 [==============================] - 4s 3ms/step - loss: 0.3919 - accuracy: 0.6284\n",
            "Epoch 2/50\n",
            "759/759 [==============================] - 2s 3ms/step - loss: 0.3526 - accuracy: 0.6334\n",
            "Epoch 3/50\n",
            "759/759 [==============================] - 3s 3ms/step - loss: 0.3571 - accuracy: 0.6347\n",
            "Epoch 4/50\n",
            "759/759 [==============================] - 2s 3ms/step - loss: 0.3541 - accuracy: 0.6374\n",
            "Epoch 5/50\n",
            "759/759 [==============================] - 2s 3ms/step - loss: 0.3692 - accuracy: 0.6401\n",
            "Epoch 6/50\n",
            "759/759 [==============================] - 2s 3ms/step - loss: 0.3686 - accuracy: 0.6413\n",
            "Epoch 7/50\n",
            "759/759 [==============================] - 2s 3ms/step - loss: 0.3697 - accuracy: 0.6413\n",
            "Epoch 8/50\n",
            "759/759 [==============================] - 3s 3ms/step - loss: 0.3639 - accuracy: 0.6435\n",
            "Epoch 9/50\n",
            "759/759 [==============================] - 3s 3ms/step - loss: 0.3601 - accuracy: 0.6463\n",
            "Epoch 10/50\n",
            "759/759 [==============================] - 2s 3ms/step - loss: 0.3645 - accuracy: 0.6484\n",
            "Epoch 11/50\n",
            "759/759 [==============================] - 3s 3ms/step - loss: 0.3621 - accuracy: 0.6501\n",
            "Epoch 12/50\n",
            "759/759 [==============================] - 3s 3ms/step - loss: 0.3614 - accuracy: 0.6519\n",
            "Epoch 13/50\n",
            "759/759 [==============================] - 3s 3ms/step - loss: 0.3641 - accuracy: 0.6519\n",
            "Epoch 14/50\n",
            "759/759 [==============================] - 3s 4ms/step - loss: 0.3673 - accuracy: 0.6530\n",
            "Epoch 15/50\n",
            "759/759 [==============================] - 3s 3ms/step - loss: 0.3736 - accuracy: 0.6543\n",
            "Epoch 16/50\n",
            "759/759 [==============================] - 3s 3ms/step - loss: 0.3734 - accuracy: 0.6567\n",
            "Epoch 17/50\n",
            "759/759 [==============================] - 3s 3ms/step - loss: 0.3749 - accuracy: 0.6587\n",
            "Epoch 18/50\n",
            "759/759 [==============================] - 3s 3ms/step - loss: 0.3845 - accuracy: 0.6578\n",
            "Epoch 19/50\n",
            "759/759 [==============================] - 3s 3ms/step - loss: 0.3815 - accuracy: 0.6582\n",
            "Epoch 20/50\n",
            "759/759 [==============================] - 3s 3ms/step - loss: 0.3863 - accuracy: 0.6595\n",
            "Epoch 21/50\n",
            "759/759 [==============================] - 3s 3ms/step - loss: 0.4125 - accuracy: 0.6605\n",
            "Epoch 22/50\n",
            "759/759 [==============================] - 3s 3ms/step - loss: 0.4040 - accuracy: 0.6627\n",
            "Epoch 23/50\n",
            "759/759 [==============================] - 2s 3ms/step - loss: 0.4051 - accuracy: 0.6624\n",
            "Epoch 24/50\n",
            "759/759 [==============================] - 3s 3ms/step - loss: 0.4200 - accuracy: 0.6633\n",
            "Epoch 25/50\n",
            "759/759 [==============================] - 3s 3ms/step - loss: 0.4274 - accuracy: 0.6644\n",
            "Epoch 26/50\n",
            "759/759 [==============================] - 3s 3ms/step - loss: 0.4470 - accuracy: 0.6632\n",
            "Epoch 27/50\n",
            "759/759 [==============================] - 3s 3ms/step - loss: 0.4262 - accuracy: 0.6632\n",
            "Epoch 28/50\n",
            "759/759 [==============================] - 3s 3ms/step - loss: 0.4238 - accuracy: 0.6645\n",
            "Epoch 29/50\n",
            "759/759 [==============================] - 3s 3ms/step - loss: 0.4191 - accuracy: 0.6639\n",
            "Epoch 30/50\n",
            "759/759 [==============================] - 3s 3ms/step - loss: 0.4103 - accuracy: 0.6652\n",
            "Epoch 31/50\n",
            "759/759 [==============================] - 2s 3ms/step - loss: 0.4130 - accuracy: 0.6648\n",
            "Epoch 32/50\n",
            "759/759 [==============================] - 2s 3ms/step - loss: 0.4047 - accuracy: 0.6654\n",
            "Epoch 33/50\n",
            "759/759 [==============================] - 3s 3ms/step - loss: 0.4118 - accuracy: 0.6660\n",
            "Epoch 34/50\n",
            "759/759 [==============================] - 2s 3ms/step - loss: 0.4074 - accuracy: 0.6668\n",
            "Epoch 35/50\n",
            "759/759 [==============================] - 2s 3ms/step - loss: 0.4288 - accuracy: 0.6668\n",
            "Epoch 36/50\n",
            "759/759 [==============================] - 3s 3ms/step - loss: 0.4513 - accuracy: 0.6677\n",
            "Epoch 37/50\n",
            "759/759 [==============================] - 3s 3ms/step - loss: 0.4515 - accuracy: 0.6674\n",
            "Epoch 38/50\n",
            "759/759 [==============================] - 3s 4ms/step - loss: 0.4553 - accuracy: 0.6671\n",
            "Epoch 39/50\n",
            "759/759 [==============================] - 3s 4ms/step - loss: 0.4356 - accuracy: 0.6673\n",
            "Epoch 40/50\n",
            "759/759 [==============================] - 3s 4ms/step - loss: 0.4333 - accuracy: 0.6666\n",
            "Epoch 41/50\n",
            "759/759 [==============================] - 3s 4ms/step - loss: 0.4375 - accuracy: 0.6681\n",
            "Epoch 42/50\n",
            "759/759 [==============================] - 3s 4ms/step - loss: 0.4377 - accuracy: 0.6676\n",
            "Epoch 43/50\n",
            "759/759 [==============================] - 3s 4ms/step - loss: 0.4341 - accuracy: 0.6670\n",
            "Epoch 44/50\n",
            "759/759 [==============================] - 3s 4ms/step - loss: 0.4453 - accuracy: 0.6670\n",
            "Epoch 45/50\n",
            "759/759 [==============================] - 3s 4ms/step - loss: 0.4264 - accuracy: 0.6675\n",
            "Epoch 46/50\n",
            "759/759 [==============================] - 3s 4ms/step - loss: 0.4313 - accuracy: 0.6682\n",
            "Epoch 47/50\n",
            "759/759 [==============================] - 3s 3ms/step - loss: 0.4473 - accuracy: 0.6679\n",
            "Epoch 48/50\n",
            "759/759 [==============================] - 3s 3ms/step - loss: 0.4294 - accuracy: 0.6666\n",
            "Epoch 49/50\n",
            "759/759 [==============================] - 3s 3ms/step - loss: 0.4303 - accuracy: 0.6688\n",
            "Epoch 50/50\n",
            "759/759 [==============================] - 3s 4ms/step - loss: 0.4147 - accuracy: 0.6669\n"
          ],
          "name": "stdout"
        },
        {
          "output_type": "execute_result",
          "data": {
            "text/plain": [
              "<tensorflow.python.keras.callbacks.History at 0x7fabb0172550>"
            ]
          },
          "metadata": {
            "tags": []
          },
          "execution_count": 39
        }
      ]
    },
    {
      "cell_type": "code",
      "metadata": {
        "id": "rrEoNKKQk9C5"
      },
      "source": [
        "y_pred = np.argmax(model.predict(X_test), axis = 1)"
      ],
      "execution_count": null,
      "outputs": []
    },
    {
      "cell_type": "code",
      "metadata": {
        "id": "rqALC1TalnBp"
      },
      "source": [
        "y_test_arr = y_test.idxmax(axis = 1)"
      ],
      "execution_count": null,
      "outputs": []
    },
    {
      "cell_type": "code",
      "metadata": {
        "colab": {
          "base_uri": "https://localhost:8080/"
        },
        "id": "jbAzpalKloa7",
        "outputId": "af409e31-9e7b-4862-cf7e-28b5c4f8b03b"
      },
      "source": [
        "y_test.columns"
      ],
      "execution_count": null,
      "outputs": [
        {
          "output_type": "execute_result",
          "data": {
            "text/plain": [
              "Index(['down', 'go', 'left', 'no', 'off', 'on', 'right', 'stop', 'unknown',\n",
              "       'up', 'yes'],\n",
              "      dtype='object')"
            ]
          },
          "metadata": {
            "tags": []
          },
          "execution_count": 44
        }
      ]
    },
    {
      "cell_type": "code",
      "metadata": {
        "id": "N2nrD6Pblp2g"
      },
      "source": [
        "tar_dict = {0:'down', 1:'go', 2:'left', 3:'no', 4:'off',\n",
        "            5:'on', 6:'right', 7:'stop', 8:'unknown', 9:'up', 10: 'yes'}"
      ],
      "execution_count": null,
      "outputs": []
    },
    {
      "cell_type": "code",
      "metadata": {
        "id": "14ivc7Snlti5"
      },
      "source": [
        "y_hat = []\n",
        "for value in y_pred:\n",
        "  y_hat.append(tar_dict[value])"
      ],
      "execution_count": null,
      "outputs": []
    },
    {
      "cell_type": "code",
      "metadata": {
        "id": "qwbL9Z7llvdh"
      },
      "source": [
        "y_hat_arr = np.array(y_hat)"
      ],
      "execution_count": null,
      "outputs": []
    },
    {
      "cell_type": "code",
      "metadata": {
        "colab": {
          "base_uri": "https://localhost:8080/"
        },
        "id": "-hDnaccqlyEx",
        "outputId": "8fc8dc4c-04c0-4d6b-ae7a-333752908b55"
      },
      "source": [
        "accuracy_score(y_test_arr, y_hat_arr)"
      ],
      "execution_count": null,
      "outputs": [
        {
          "output_type": "execute_result",
          "data": {
            "text/plain": [
              "0.6540386873493603"
            ]
          },
          "metadata": {
            "tags": []
          },
          "execution_count": 48
        }
      ]
    },
    {
      "cell_type": "code",
      "metadata": {
        "colab": {
          "base_uri": "https://localhost:8080/"
        },
        "id": "Nl2oeYbD7G-5",
        "outputId": "0dc89b05-b63a-4af7-c5a7-59a3fd9ae5c9"
      },
      "source": [
        "#Get test data for kaggle scoring\n",
        "!p7zip -d '/content/drive/MyDrive/test.7z'"
      ],
      "execution_count": null,
      "outputs": [
        {
          "output_type": "stream",
          "text": [
            "/usr/bin/p7zip: cannot read /content/drive/MyDrive/test.7z\n"
          ],
          "name": "stdout"
        }
      ]
    },
    {
      "cell_type": "code",
      "metadata": {
        "id": "rsl131Cv7HD6",
        "colab": {
          "base_uri": "https://localhost:8080/"
        },
        "outputId": "d4f53ab7-ef27-4000-cc6a-12631552a44f"
      },
      "source": [
        "model.save('/content/drive/MyDrive/model')"
      ],
      "execution_count": null,
      "outputs": [
        {
          "output_type": "stream",
          "text": [
            "INFO:tensorflow:Assets written to: /content/drive/MyDrive/model/assets\n"
          ],
          "name": "stdout"
        }
      ]
    },
    {
      "cell_type": "code",
      "metadata": {
        "id": "naXDHEGD7HIg"
      },
      "source": [
        ""
      ],
      "execution_count": null,
      "outputs": []
    },
    {
      "cell_type": "code",
      "metadata": {
        "id": "S_82Im387HMs"
      },
      "source": [
        ""
      ],
      "execution_count": null,
      "outputs": []
    },
    {
      "cell_type": "code",
      "metadata": {
        "id": "9YSnCuEG7HXn"
      },
      "source": [
        ""
      ],
      "execution_count": null,
      "outputs": []
    },
    {
      "cell_type": "code",
      "metadata": {
        "id": "A5b1vfw7nsQL"
      },
      "source": [
        "#Getting all of the test files\n",
        "test_files_ds = tf.data.Dataset.from_tensor_slices(test_paths)"
      ],
      "execution_count": null,
      "outputs": []
    },
    {
      "cell_type": "code",
      "metadata": {
        "id": "co0332qvnsTK"
      },
      "source": [
        "#Getting the waveform for each test file\n",
        "test_waveform_ds = test_files_ds.map(get_waveform)"
      ],
      "execution_count": null,
      "outputs": []
    },
    {
      "cell_type": "code",
      "metadata": {
        "id": "hAwBVkVJnsWU"
      },
      "source": [
        "#Getting the spectrogram for each file\n",
        "test_spectrogram_ds = test_waveform_ds.map(get_spectrogram)"
      ],
      "execution_count": null,
      "outputs": []
    },
    {
      "cell_type": "code",
      "metadata": {
        "colab": {
          "base_uri": "https://localhost:8080/",
          "height": 358
        },
        "id": "r16Y3MISo31m",
        "outputId": "724a0c73-668e-47a4-9a4e-27f0618cc491"
      },
      "source": [
        "X_k = []\n",
        "for spec in test_spectrogram_ds:\n",
        "  X_k.append(spec.numpy())"
      ],
      "execution_count": null,
      "outputs": [
        {
          "output_type": "error",
          "ename": "KeyboardInterrupt",
          "evalue": "ignored",
          "traceback": [
            "\u001b[0;31m---------------------------------------------------------------------------\u001b[0m",
            "\u001b[0;31mKeyboardInterrupt\u001b[0m                         Traceback (most recent call last)",
            "\u001b[0;32m<ipython-input-88-c450aee2eca1>\u001b[0m in \u001b[0;36m<module>\u001b[0;34m()\u001b[0m\n\u001b[1;32m      1\u001b[0m \u001b[0mX_k\u001b[0m \u001b[0;34m=\u001b[0m \u001b[0;34m[\u001b[0m\u001b[0;34m]\u001b[0m\u001b[0;34m\u001b[0m\u001b[0;34m\u001b[0m\u001b[0m\n\u001b[0;32m----> 2\u001b[0;31m \u001b[0;32mfor\u001b[0m \u001b[0mspec\u001b[0m \u001b[0;32min\u001b[0m \u001b[0mtest_spectrogram_ds\u001b[0m\u001b[0;34m:\u001b[0m\u001b[0;34m\u001b[0m\u001b[0;34m\u001b[0m\u001b[0m\n\u001b[0m\u001b[1;32m      3\u001b[0m   \u001b[0mX_k\u001b[0m\u001b[0;34m.\u001b[0m\u001b[0mappend\u001b[0m\u001b[0;34m(\u001b[0m\u001b[0mspec\u001b[0m\u001b[0;34m.\u001b[0m\u001b[0mnumpy\u001b[0m\u001b[0;34m(\u001b[0m\u001b[0;34m)\u001b[0m\u001b[0;34m)\u001b[0m\u001b[0;34m\u001b[0m\u001b[0;34m\u001b[0m\u001b[0m\n",
            "\u001b[0;32m/usr/local/lib/python3.7/dist-packages/tensorflow/python/data/ops/iterator_ops.py\u001b[0m in \u001b[0;36m__next__\u001b[0;34m(self)\u001b[0m\n\u001b[1;32m    759\u001b[0m   \u001b[0;32mdef\u001b[0m \u001b[0m__next__\u001b[0m\u001b[0;34m(\u001b[0m\u001b[0mself\u001b[0m\u001b[0;34m)\u001b[0m\u001b[0;34m:\u001b[0m\u001b[0;34m\u001b[0m\u001b[0;34m\u001b[0m\u001b[0m\n\u001b[1;32m    760\u001b[0m     \u001b[0;32mtry\u001b[0m\u001b[0;34m:\u001b[0m\u001b[0;34m\u001b[0m\u001b[0;34m\u001b[0m\u001b[0m\n\u001b[0;32m--> 761\u001b[0;31m       \u001b[0;32mreturn\u001b[0m \u001b[0mself\u001b[0m\u001b[0;34m.\u001b[0m\u001b[0m_next_internal\u001b[0m\u001b[0;34m(\u001b[0m\u001b[0;34m)\u001b[0m\u001b[0;34m\u001b[0m\u001b[0;34m\u001b[0m\u001b[0m\n\u001b[0m\u001b[1;32m    762\u001b[0m     \u001b[0;32mexcept\u001b[0m \u001b[0merrors\u001b[0m\u001b[0;34m.\u001b[0m\u001b[0mOutOfRangeError\u001b[0m\u001b[0;34m:\u001b[0m\u001b[0;34m\u001b[0m\u001b[0;34m\u001b[0m\u001b[0m\n\u001b[1;32m    763\u001b[0m       \u001b[0;32mraise\u001b[0m \u001b[0mStopIteration\u001b[0m\u001b[0;34m\u001b[0m\u001b[0;34m\u001b[0m\u001b[0m\n",
            "\u001b[0;32m/usr/local/lib/python3.7/dist-packages/tensorflow/python/data/ops/iterator_ops.py\u001b[0m in \u001b[0;36m_next_internal\u001b[0;34m(self)\u001b[0m\n\u001b[1;32m    745\u001b[0m           \u001b[0mself\u001b[0m\u001b[0;34m.\u001b[0m\u001b[0m_iterator_resource\u001b[0m\u001b[0;34m,\u001b[0m\u001b[0;34m\u001b[0m\u001b[0;34m\u001b[0m\u001b[0m\n\u001b[1;32m    746\u001b[0m           \u001b[0moutput_types\u001b[0m\u001b[0;34m=\u001b[0m\u001b[0mself\u001b[0m\u001b[0;34m.\u001b[0m\u001b[0m_flat_output_types\u001b[0m\u001b[0;34m,\u001b[0m\u001b[0;34m\u001b[0m\u001b[0;34m\u001b[0m\u001b[0m\n\u001b[0;32m--> 747\u001b[0;31m           output_shapes=self._flat_output_shapes)\n\u001b[0m\u001b[1;32m    748\u001b[0m \u001b[0;34m\u001b[0m\u001b[0m\n\u001b[1;32m    749\u001b[0m       \u001b[0;32mtry\u001b[0m\u001b[0;34m:\u001b[0m\u001b[0;34m\u001b[0m\u001b[0;34m\u001b[0m\u001b[0m\n",
            "\u001b[0;32m/usr/local/lib/python3.7/dist-packages/tensorflow/python/ops/gen_dataset_ops.py\u001b[0m in \u001b[0;36miterator_get_next\u001b[0;34m(iterator, output_types, output_shapes, name)\u001b[0m\n\u001b[1;32m   2723\u001b[0m       _result = pywrap_tfe.TFE_Py_FastPathExecute(\n\u001b[1;32m   2724\u001b[0m         \u001b[0m_ctx\u001b[0m\u001b[0;34m,\u001b[0m \u001b[0;34m\"IteratorGetNext\"\u001b[0m\u001b[0;34m,\u001b[0m \u001b[0mname\u001b[0m\u001b[0;34m,\u001b[0m \u001b[0miterator\u001b[0m\u001b[0;34m,\u001b[0m \u001b[0;34m\"output_types\"\u001b[0m\u001b[0;34m,\u001b[0m \u001b[0moutput_types\u001b[0m\u001b[0;34m,\u001b[0m\u001b[0;34m\u001b[0m\u001b[0;34m\u001b[0m\u001b[0m\n\u001b[0;32m-> 2725\u001b[0;31m         \"output_shapes\", output_shapes)\n\u001b[0m\u001b[1;32m   2726\u001b[0m       \u001b[0;32mreturn\u001b[0m \u001b[0m_result\u001b[0m\u001b[0;34m\u001b[0m\u001b[0;34m\u001b[0m\u001b[0m\n\u001b[1;32m   2727\u001b[0m     \u001b[0;32mexcept\u001b[0m \u001b[0m_core\u001b[0m\u001b[0;34m.\u001b[0m\u001b[0m_NotOkStatusException\u001b[0m \u001b[0;32mas\u001b[0m \u001b[0me\u001b[0m\u001b[0;34m:\u001b[0m\u001b[0;34m\u001b[0m\u001b[0;34m\u001b[0m\u001b[0m\n",
            "\u001b[0;31mKeyboardInterrupt\u001b[0m: "
          ]
        }
      ]
    },
    {
      "cell_type": "code",
      "metadata": {
        "id": "x1i9Kd1LpEhi"
      },
      "source": [
        "model2 = Sequential()"
      ],
      "execution_count": null,
      "outputs": []
    },
    {
      "cell_type": "code",
      "metadata": {
        "colab": {
          "base_uri": "https://localhost:8080/"
        },
        "id": "UDvmRu9x2Z1U",
        "outputId": "15e5d998-0409-44cc-b544-019fec0ff81e"
      },
      "source": [
        "model2.add(Input(shape=input_shape))\n",
        "model2.add(Flatten())\n",
        "model2.add(Dense(12, activation='relu'))\n",
        "model2.add(Dense(8, activation='relu'))\n",
        "model2.add(Dense(num_labels))"
      ],
      "execution_count": null,
      "outputs": [
        {
          "output_type": "stream",
          "text": [
            "WARNING:tensorflow:Please add `keras.layers.InputLayer` instead of `keras.Input` to Sequential model. `keras.Input` is intended to be used by Functional model.\n"
          ],
          "name": "stdout"
        }
      ]
    },
    {
      "cell_type": "code",
      "metadata": {
        "id": "PBQvPv6R2hsS"
      },
      "source": [
        "model2.compile(optimizer='rmsprop',\n",
        "              loss='binary_crossentropy',\n",
        "              metrics=['accuracy'])"
      ],
      "execution_count": null,
      "outputs": []
    },
    {
      "cell_type": "code",
      "metadata": {
        "colab": {
          "base_uri": "https://localhost:8080/",
          "height": 198
        },
        "id": "80a5VIUZ2k-y",
        "outputId": "ffccfdec-5ad6-4223-e641-67b7fd34805c"
      },
      "source": [
        "infile = open(\"model.pickle\",'rb')\n",
        "model3 = pickle.load(infile)\n",
        "infile.close()"
      ],
      "execution_count": null,
      "outputs": [
        {
          "output_type": "error",
          "ename": "EOFError",
          "evalue": "ignored",
          "traceback": [
            "\u001b[0;31m---------------------------------------------------------------------------\u001b[0m",
            "\u001b[0;31mEOFError\u001b[0m                                  Traceback (most recent call last)",
            "\u001b[0;32m<ipython-input-94-be9ad153a19b>\u001b[0m in \u001b[0;36m<module>\u001b[0;34m()\u001b[0m\n\u001b[1;32m      1\u001b[0m \u001b[0minfile\u001b[0m \u001b[0;34m=\u001b[0m \u001b[0mopen\u001b[0m\u001b[0;34m(\u001b[0m\u001b[0;34m\"model.pickle\"\u001b[0m\u001b[0;34m,\u001b[0m\u001b[0;34m'rb'\u001b[0m\u001b[0;34m)\u001b[0m\u001b[0;34m\u001b[0m\u001b[0;34m\u001b[0m\u001b[0m\n\u001b[0;32m----> 2\u001b[0;31m \u001b[0mmodel3\u001b[0m \u001b[0;34m=\u001b[0m \u001b[0mpickle\u001b[0m\u001b[0;34m.\u001b[0m\u001b[0mload\u001b[0m\u001b[0;34m(\u001b[0m\u001b[0minfile\u001b[0m\u001b[0;34m)\u001b[0m\u001b[0;34m\u001b[0m\u001b[0;34m\u001b[0m\u001b[0m\n\u001b[0m\u001b[1;32m      3\u001b[0m \u001b[0minfile\u001b[0m\u001b[0;34m.\u001b[0m\u001b[0mclose\u001b[0m\u001b[0;34m(\u001b[0m\u001b[0;34m)\u001b[0m\u001b[0;34m\u001b[0m\u001b[0;34m\u001b[0m\u001b[0m\n",
            "\u001b[0;31mEOFError\u001b[0m: Ran out of input"
          ]
        }
      ]
    },
    {
      "cell_type": "code",
      "metadata": {
        "id": "nLkY8Xyn2sPD",
        "colab": {
          "base_uri": "https://localhost:8080/"
        },
        "outputId": "5e5d6174-5e04-4788-b954-c33da40a8f0d"
      },
      "source": [
        "X.shape"
      ],
      "execution_count": null,
      "outputs": [
        {
          "output_type": "execute_result",
          "data": {
            "text/plain": [
              "(64721, 124, 129)"
            ]
          },
          "metadata": {
            "tags": []
          },
          "execution_count": 52
        }
      ]
    },
    {
      "cell_type": "code",
      "metadata": {
        "id": "xc5MrPfn3ABM"
      },
      "source": [
        "X_res = X.reshape(X.shape[0], -1)"
      ],
      "execution_count": null,
      "outputs": []
    },
    {
      "cell_type": "code",
      "metadata": {
        "id": "RM5sI78UGjCp"
      },
      "source": [
        "np.savetxt('train_spec.txt', X_res)"
      ],
      "execution_count": null,
      "outputs": []
    },
    {
      "cell_type": "code",
      "metadata": {
        "colab": {
          "base_uri": "https://localhost:8080/",
          "height": 494
        },
        "id": "bqHFFMTvGkkw",
        "outputId": "eb3442bf-f754-466d-9459-c256b8d123b3"
      },
      "source": [
        "np.savetxt('train_labels.txt', y)"
      ],
      "execution_count": null,
      "outputs": [
        {
          "output_type": "error",
          "ename": "TypeError",
          "evalue": "ignored",
          "traceback": [
            "\u001b[0;31m---------------------------------------------------------------------------\u001b[0m",
            "\u001b[0;31mTypeError\u001b[0m                                 Traceback (most recent call last)",
            "\u001b[0;32m/usr/local/lib/python3.7/dist-packages/numpy/lib/npyio.py\u001b[0m in \u001b[0;36msavetxt\u001b[0;34m(fname, X, fmt, delimiter, newline, header, footer, comments, encoding)\u001b[0m\n\u001b[1;32m   1423\u001b[0m                 \u001b[0;32mtry\u001b[0m\u001b[0;34m:\u001b[0m\u001b[0;34m\u001b[0m\u001b[0;34m\u001b[0m\u001b[0m\n\u001b[0;32m-> 1424\u001b[0;31m                     \u001b[0mv\u001b[0m \u001b[0;34m=\u001b[0m \u001b[0mformat\u001b[0m \u001b[0;34m%\u001b[0m \u001b[0mtuple\u001b[0m\u001b[0;34m(\u001b[0m\u001b[0mrow\u001b[0m\u001b[0;34m)\u001b[0m \u001b[0;34m+\u001b[0m \u001b[0mnewline\u001b[0m\u001b[0;34m\u001b[0m\u001b[0;34m\u001b[0m\u001b[0m\n\u001b[0m\u001b[1;32m   1425\u001b[0m                 \u001b[0;32mexcept\u001b[0m \u001b[0mTypeError\u001b[0m\u001b[0;34m:\u001b[0m\u001b[0;34m\u001b[0m\u001b[0;34m\u001b[0m\u001b[0m\n",
            "\u001b[0;31mTypeError\u001b[0m: must be real number, not numpy.str_",
            "\nDuring handling of the above exception, another exception occurred:\n",
            "\u001b[0;31mTypeError\u001b[0m                                 Traceback (most recent call last)",
            "\u001b[0;32m<ipython-input-59-27d02b1ceddb>\u001b[0m in \u001b[0;36m<module>\u001b[0;34m()\u001b[0m\n\u001b[0;32m----> 1\u001b[0;31m \u001b[0mnp\u001b[0m\u001b[0;34m.\u001b[0m\u001b[0msavetxt\u001b[0m\u001b[0;34m(\u001b[0m\u001b[0;34m'train_labels.txt'\u001b[0m\u001b[0;34m,\u001b[0m \u001b[0my\u001b[0m\u001b[0;34m)\u001b[0m\u001b[0;34m\u001b[0m\u001b[0;34m\u001b[0m\u001b[0m\n\u001b[0m",
            "\u001b[0;32m<__array_function__ internals>\u001b[0m in \u001b[0;36msavetxt\u001b[0;34m(*args, **kwargs)\u001b[0m\n",
            "\u001b[0;32m/usr/local/lib/python3.7/dist-packages/numpy/lib/npyio.py\u001b[0m in \u001b[0;36msavetxt\u001b[0;34m(fname, X, fmt, delimiter, newline, header, footer, comments, encoding)\u001b[0m\n\u001b[1;32m   1426\u001b[0m                     raise TypeError(\"Mismatch between array dtype ('%s') and \"\n\u001b[1;32m   1427\u001b[0m                                     \u001b[0;34m\"format specifier ('%s')\"\u001b[0m\u001b[0;34m\u001b[0m\u001b[0;34m\u001b[0m\u001b[0m\n\u001b[0;32m-> 1428\u001b[0;31m                                     % (str(X.dtype), format))\n\u001b[0m\u001b[1;32m   1429\u001b[0m                 \u001b[0mfh\u001b[0m\u001b[0;34m.\u001b[0m\u001b[0mwrite\u001b[0m\u001b[0;34m(\u001b[0m\u001b[0mv\u001b[0m\u001b[0;34m)\u001b[0m\u001b[0;34m\u001b[0m\u001b[0;34m\u001b[0m\u001b[0m\n\u001b[1;32m   1430\u001b[0m \u001b[0;34m\u001b[0m\u001b[0m\n",
            "\u001b[0;31mTypeError\u001b[0m: Mismatch between array dtype ('<U7') and format specifier ('%.18e')"
          ]
        }
      ]
    },
    {
      "cell_type": "code",
      "metadata": {
        "id": "dQzFESABK5Gs"
      },
      "source": [
        ""
      ],
      "execution_count": null,
      "outputs": []
    }
  ]
}